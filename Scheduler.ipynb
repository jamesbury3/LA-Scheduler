{
 "cells": [
  {
   "cell_type": "code",
   "execution_count": 84,
   "metadata": {},
   "outputs": [],
   "source": [
    "import pandas as pd\n",
    "pd.options.mode.chained_assignment = None  # default='warn'"
   ]
  },
  {
   "cell_type": "markdown",
   "metadata": {},
   "source": [
    "### Read and clean csv"
   ]
  },
  {
   "cell_type": "code",
   "execution_count": 75,
   "metadata": {},
   "outputs": [
    {
     "data": {
      "text/html": [
       "<div>\n",
       "<style scoped>\n",
       "    .dataframe tbody tr th:only-of-type {\n",
       "        vertical-align: middle;\n",
       "    }\n",
       "\n",
       "    .dataframe tbody tr th {\n",
       "        vertical-align: top;\n",
       "    }\n",
       "\n",
       "    .dataframe thead th {\n",
       "        text-align: right;\n",
       "    }\n",
       "</style>\n",
       "<table border=\"1\" class=\"dataframe\">\n",
       "  <thead>\n",
       "    <tr style=\"text-align: right;\">\n",
       "      <th></th>\n",
       "      <th>name</th>\n",
       "      <th>times</th>\n",
       "    </tr>\n",
       "  </thead>\n",
       "  <tbody>\n",
       "    <tr>\n",
       "      <td>0</td>\n",
       "      <td>Amy Clark</td>\n",
       "      <td>Monday 1-2, Monday 2-3, Monday 3-4, Monday 4-5...</td>\n",
       "    </tr>\n",
       "    <tr>\n",
       "      <td>1</td>\n",
       "      <td>Ruchi Sarkar</td>\n",
       "      <td>Monday 10-11, Monday 1-2, Tues 10-11, Tues 11-...</td>\n",
       "    </tr>\n",
       "    <tr>\n",
       "      <td>2</td>\n",
       "      <td>Dana Rubin</td>\n",
       "      <td>Monday 10-11, Monday 1-2, Monday 4-5, Tues 1-2...</td>\n",
       "    </tr>\n",
       "    <tr>\n",
       "      <td>3</td>\n",
       "      <td>Nidhi Murlidhar</td>\n",
       "      <td>Monday 4-5, Tues 10-11, Tues 11-12, Tues 12-1,...</td>\n",
       "    </tr>\n",
       "    <tr>\n",
       "      <td>4</td>\n",
       "      <td>NaN</td>\n",
       "      <td>Monday 10-11, Monday 1-2, Monday 2-3, Monday 3...</td>\n",
       "    </tr>\n",
       "  </tbody>\n",
       "</table>\n",
       "</div>"
      ],
      "text/plain": [
       "              name                                              times\n",
       "0        Amy Clark  Monday 1-2, Monday 2-3, Monday 3-4, Monday 4-5...\n",
       "1    Ruchi Sarkar   Monday 10-11, Monday 1-2, Tues 10-11, Tues 11-...\n",
       "2       Dana Rubin  Monday 10-11, Monday 1-2, Monday 4-5, Tues 1-2...\n",
       "3  Nidhi Murlidhar  Monday 4-5, Tues 10-11, Tues 11-12, Tues 12-1,...\n",
       "4              NaN  Monday 10-11, Monday 1-2, Monday 2-3, Monday 3..."
      ]
     },
     "execution_count": 75,
     "metadata": {},
     "output_type": "execute_result"
    }
   ],
   "source": [
    "df = pd.read_csv(\"las2.csv\").drop(columns=[\"Timestamp\", \"Empty\"]).rename(columns={\n",
    "    \"What is your name?\": \"name\",\n",
    "    \"For each of the following, choose which days and times you are available (Please try to put at LEAST 10 available slots)\": \"times\"\n",
    "})\n",
    "df.head()"
   ]
  },
  {
   "cell_type": "code",
   "execution_count": 63,
   "metadata": {},
   "outputs": [],
   "source": [
    "all_times = set()\n",
    "\n",
    "for index, row in df.iterrows():\n",
    "    times = str(row[\"times\"]).split(\", \")\n",
    "    for t in times:\n",
    "        if t not in all_times:\n",
    "            all_times.add(t)\n",
    "            \n",
    "all_times = list(all_times)"
   ]
  },
  {
   "cell_type": "code",
   "execution_count": 64,
   "metadata": {},
   "outputs": [
    {
     "data": {
      "text/plain": [
       "['Monday 4-5',\n",
       " 'Tues 11-12',\n",
       " 'Tues 12-1',\n",
       " 'Tues 4-5',\n",
       " 'Thur 3-4',\n",
       " 'Wed 11-12',\n",
       " 'Thur 4-5',\n",
       " 'Monday 10-11',\n",
       " 'Monday 12-1',\n",
       " 'Monday 1-2',\n",
       " 'Thur 2-3',\n",
       " 'Thur 11-12',\n",
       " 'Wed 12-1',\n",
       " 'Monday 2-3',\n",
       " 'Monday 3-4',\n",
       " 'Wed 10-11',\n",
       " 'Wed 2-3',\n",
       " 'Thur 12-1',\n",
       " 'Tues 2-3',\n",
       " 'Wed 3-4',\n",
       " 'Wed 1-2',\n",
       " 'Thur 10-11',\n",
       " 'Wed 4-5',\n",
       " 'nan',\n",
       " 'Monday 11-12',\n",
       " 'Tues 1-2',\n",
       " 'Thur 1-2',\n",
       " 'Tues 3-4',\n",
       " 'Tues 10-11']"
      ]
     },
     "execution_count": 64,
     "metadata": {},
     "output_type": "execute_result"
    }
   ],
   "source": [
    "all_times"
   ]
  },
  {
   "cell_type": "markdown",
   "metadata": {},
   "source": [
    "### Sort times"
   ]
  },
  {
   "cell_type": "code",
   "execution_count": 70,
   "metadata": {},
   "outputs": [
    {
     "name": "stdout",
     "output_type": "stream",
     "text": [
      "['Monday 10-11', 'Monday 11-12', 'Monday 12-1', 'Monday 1-2', 'Monday 2-3', 'Monday 3-4', 'Monday 4-5', 'Tues 10-11', 'Tues 11-12', 'Tues 12-1', 'Tues 1-2', 'Tues 2-3', 'Tues 3-4', 'Tues 4-5', 'Wed 10-11', 'Wed 11-12', 'Wed 12-1', 'Wed 1-2', 'Wed 2-3', 'Wed 3-4', 'Wed 4-5', 'Thur 10-11', 'Thur 11-12', 'Thur 12-1', 'Thur 1-2', 'Thur 2-3', 'Thur 3-4', 'Thur 4-5']\n"
     ]
    }
   ],
   "source": [
    "days = [\"Monday\", \"Tues\", \"Wed\", \"Thur\"]\n",
    "time_order = [\"10-11\", \"11-12\", \"12-1\", \"1-2\", \"2-3\", \"3-4\", \"4-5\"]\n",
    "sorted_times = []\n",
    "\n",
    "for d in days:\n",
    "    curr_day = [x for x in all_times if d in x]\n",
    "    for t in time_order:\n",
    "        for c in curr_day:\n",
    "            if t in c:\n",
    "                sorted_times.append(c)\n",
    "                \n",
    "print(sorted_times)"
   ]
  },
  {
   "cell_type": "markdown",
   "metadata": {},
   "source": [
    "### Add time columns"
   ]
  },
  {
   "cell_type": "code",
   "execution_count": 87,
   "metadata": {},
   "outputs": [
    {
     "data": {
      "text/html": [
       "<div>\n",
       "<style scoped>\n",
       "    .dataframe tbody tr th:only-of-type {\n",
       "        vertical-align: middle;\n",
       "    }\n",
       "\n",
       "    .dataframe tbody tr th {\n",
       "        vertical-align: top;\n",
       "    }\n",
       "\n",
       "    .dataframe thead th {\n",
       "        text-align: right;\n",
       "    }\n",
       "</style>\n",
       "<table border=\"1\" class=\"dataframe\">\n",
       "  <thead>\n",
       "    <tr style=\"text-align: right;\">\n",
       "      <th></th>\n",
       "      <th>name</th>\n",
       "      <th>times</th>\n",
       "      <th>Monday 10-11</th>\n",
       "      <th>Monday 11-12</th>\n",
       "      <th>Monday 12-1</th>\n",
       "      <th>Monday 1-2</th>\n",
       "      <th>Monday 2-3</th>\n",
       "      <th>Monday 3-4</th>\n",
       "      <th>Monday 4-5</th>\n",
       "      <th>Tues 10-11</th>\n",
       "      <th>...</th>\n",
       "      <th>Wed 2-3</th>\n",
       "      <th>Wed 3-4</th>\n",
       "      <th>Wed 4-5</th>\n",
       "      <th>Thur 10-11</th>\n",
       "      <th>Thur 11-12</th>\n",
       "      <th>Thur 12-1</th>\n",
       "      <th>Thur 1-2</th>\n",
       "      <th>Thur 2-3</th>\n",
       "      <th>Thur 3-4</th>\n",
       "      <th>Thur 4-5</th>\n",
       "    </tr>\n",
       "  </thead>\n",
       "  <tbody>\n",
       "    <tr>\n",
       "      <td>0</td>\n",
       "      <td>Amy Clark</td>\n",
       "      <td>Monday 1-2, Monday 2-3, Monday 3-4, Monday 4-5...</td>\n",
       "      <td>0</td>\n",
       "      <td>0</td>\n",
       "      <td>0</td>\n",
       "      <td>1</td>\n",
       "      <td>1</td>\n",
       "      <td>1</td>\n",
       "      <td>1</td>\n",
       "      <td>0</td>\n",
       "      <td>...</td>\n",
       "      <td>1</td>\n",
       "      <td>0</td>\n",
       "      <td>0</td>\n",
       "      <td>0</td>\n",
       "      <td>0</td>\n",
       "      <td>0</td>\n",
       "      <td>0</td>\n",
       "      <td>0</td>\n",
       "      <td>0</td>\n",
       "      <td>0</td>\n",
       "    </tr>\n",
       "    <tr>\n",
       "      <td>1</td>\n",
       "      <td>Ruchi Sarkar</td>\n",
       "      <td>Monday 10-11, Monday 1-2, Tues 10-11, Tues 11-...</td>\n",
       "      <td>1</td>\n",
       "      <td>0</td>\n",
       "      <td>0</td>\n",
       "      <td>1</td>\n",
       "      <td>0</td>\n",
       "      <td>0</td>\n",
       "      <td>0</td>\n",
       "      <td>1</td>\n",
       "      <td>...</td>\n",
       "      <td>0</td>\n",
       "      <td>0</td>\n",
       "      <td>0</td>\n",
       "      <td>1</td>\n",
       "      <td>1</td>\n",
       "      <td>0</td>\n",
       "      <td>0</td>\n",
       "      <td>1</td>\n",
       "      <td>0</td>\n",
       "      <td>0</td>\n",
       "    </tr>\n",
       "  </tbody>\n",
       "</table>\n",
       "<p>2 rows × 30 columns</p>\n",
       "</div>"
      ],
      "text/plain": [
       "            name                                              times  \\\n",
       "0      Amy Clark  Monday 1-2, Monday 2-3, Monday 3-4, Monday 4-5...   \n",
       "1  Ruchi Sarkar   Monday 10-11, Monday 1-2, Tues 10-11, Tues 11-...   \n",
       "\n",
       "   Monday 10-11  Monday 11-12  Monday 12-1  Monday 1-2  Monday 2-3  \\\n",
       "0             0             0            0           1           1   \n",
       "1             1             0            0           1           0   \n",
       "\n",
       "   Monday 3-4  Monday 4-5  Tues 10-11  ...  Wed 2-3  Wed 3-4  Wed 4-5  \\\n",
       "0           1           1           0  ...        1        0        0   \n",
       "1           0           0           1  ...        0        0        0   \n",
       "\n",
       "   Thur 10-11  Thur 11-12  Thur 12-1  Thur 1-2  Thur 2-3  Thur 3-4  Thur 4-5  \n",
       "0           0           0          0         0         0         0         0  \n",
       "1           1           1          0         0         1         0         0  \n",
       "\n",
       "[2 rows x 30 columns]"
      ]
     },
     "execution_count": 87,
     "metadata": {},
     "output_type": "execute_result"
    }
   ],
   "source": [
    "for t in sorted_times:\n",
    "    df[t] = 0\n",
    "    \n",
    "for index, row in df.iterrows():\n",
    "    for t in sorted_times:\n",
    "        if t in str(row[\"times\"]).split(\", \"):\n",
    "            df[t][index] = 1\n",
    "\n",
    "df.head(2)"
   ]
  },
  {
   "cell_type": "code",
   "execution_count": null,
   "metadata": {},
   "outputs": [],
   "source": []
  }
 ],
 "metadata": {
  "kernelspec": {
   "display_name": "Python 3",
   "language": "python",
   "name": "python3"
  },
  "language_info": {
   "codemirror_mode": {
    "name": "ipython",
    "version": 3
   },
   "file_extension": ".py",
   "mimetype": "text/x-python",
   "name": "python",
   "nbconvert_exporter": "python",
   "pygments_lexer": "ipython3",
   "version": "3.7.4"
  }
 },
 "nbformat": 4,
 "nbformat_minor": 2
}
