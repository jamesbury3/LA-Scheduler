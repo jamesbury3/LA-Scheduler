{
 "cells": [
  {
   "cell_type": "code",
   "execution_count": 40,
   "metadata": {},
   "outputs": [],
   "source": [
    "import pandas as pd\n",
    "pd.options.mode.chained_assignment = None  # default='warn'"
   ]
  },
  {
   "cell_type": "markdown",
   "metadata": {},
   "source": [
    "### Read and clean csv"
   ]
  },
  {
   "cell_type": "code",
   "execution_count": 41,
   "metadata": {},
   "outputs": [
    {
     "data": {
      "text/html": [
       "<div>\n",
       "<style scoped>\n",
       "    .dataframe tbody tr th:only-of-type {\n",
       "        vertical-align: middle;\n",
       "    }\n",
       "\n",
       "    .dataframe tbody tr th {\n",
       "        vertical-align: top;\n",
       "    }\n",
       "\n",
       "    .dataframe thead th {\n",
       "        text-align: right;\n",
       "    }\n",
       "</style>\n",
       "<table border=\"1\" class=\"dataframe\">\n",
       "  <thead>\n",
       "    <tr style=\"text-align: right;\">\n",
       "      <th></th>\n",
       "      <th>name</th>\n",
       "      <th>hours</th>\n",
       "      <th>times</th>\n",
       "    </tr>\n",
       "  </thead>\n",
       "  <tbody>\n",
       "    <tr>\n",
       "      <td>0</td>\n",
       "      <td>Sarah Bost (210)</td>\n",
       "      <td>5</td>\n",
       "      <td>Monday 10-11, Tues 11-12, Tues 12-1, Tues 1-2,...</td>\n",
       "    </tr>\n",
       "    <tr>\n",
       "      <td>1</td>\n",
       "      <td>Shannon Goad (401)</td>\n",
       "      <td>4</td>\n",
       "      <td>Monday 2-3, Tues 1-2, Wed 1-2, Wed 2-3, Wed 3-...</td>\n",
       "    </tr>\n",
       "    <tr>\n",
       "      <td>2</td>\n",
       "      <td>Dana Rubin (401)</td>\n",
       "      <td>4</td>\n",
       "      <td>Monday 10-11, Monday 1-2, Monday 4-5, Tues 10-...</td>\n",
       "    </tr>\n",
       "    <tr>\n",
       "      <td>3</td>\n",
       "      <td>Ruchi Sarkar (210)</td>\n",
       "      <td>4</td>\n",
       "      <td>Monday 1-2, Tues 10-11, Tues 11-12, Wed 10-11,...</td>\n",
       "    </tr>\n",
       "    <tr>\n",
       "      <td>4</td>\n",
       "      <td>Nidhi Murlidhar (401)</td>\n",
       "      <td>4</td>\n",
       "      <td>Tues 10-11, Tues 11-12, Tues 12-1, Tues 1-2, W...</td>\n",
       "    </tr>\n",
       "  </tbody>\n",
       "</table>\n",
       "</div>"
      ],
      "text/plain": [
       "                    name  hours  \\\n",
       "0       Sarah Bost (210)      5   \n",
       "1     Shannon Goad (401)      4   \n",
       "2       Dana Rubin (401)      4   \n",
       "3     Ruchi Sarkar (210)      4   \n",
       "4  Nidhi Murlidhar (401)      4   \n",
       "\n",
       "                                               times  \n",
       "0  Monday 10-11, Tues 11-12, Tues 12-1, Tues 1-2,...  \n",
       "1  Monday 2-3, Tues 1-2, Wed 1-2, Wed 2-3, Wed 3-...  \n",
       "2  Monday 10-11, Monday 1-2, Monday 4-5, Tues 10-...  \n",
       "3  Monday 1-2, Tues 10-11, Tues 11-12, Wed 10-11,...  \n",
       "4  Tues 10-11, Tues 11-12, Tues 12-1, Tues 1-2, W...  "
      ]
     },
     "execution_count": 41,
     "metadata": {},
     "output_type": "execute_result"
    }
   ],
   "source": [
    "df = pd.read_csv(\"las5.csv\").drop(columns=[\"Timestamp\", \"Empty\"]).rename(columns={\n",
    "    \"What is your name?\": \"name\",\n",
    "    \"How many office hours are you doing?\": \"hours\",\n",
    "    \"For each of the following, choose which days and times you are available (Please try to put at LEAST 10 available slots)\": \"times\"\n",
    "}).dropna()\n",
    "df.head()"
   ]
  },
  {
   "cell_type": "markdown",
   "metadata": {},
   "source": [
    "### Manually Modify Times"
   ]
  },
  {
   "cell_type": "code",
   "execution_count": 42,
   "metadata": {},
   "outputs": [],
   "source": [
    "from typing import List\n",
    "\n",
    "def modifyTimes(name: str, la_class: int, times_to_add: List[str], times_to_remove: List[str]) -> bool:\n",
    "    \n",
    "    full_name = str(name + \" (\" + str(la_class) + \")\")\n",
    "    \n",
    "    if full_name not in str(df[\"name\"]):\n",
    "        print(full_name + \" not present\")\n",
    "        return False\n",
    "    \n",
    "    if len(times_to_add) > 0:\n",
    "        for t in times_to_add:\n",
    "            if t.split(\" \")[0] not in [\"Monday\", \"Tues\", \"Wed\", \"Thur\"] or \\\n",
    "               t.split(\" \")[1] not in [\"10-11\", \"11-12\",\"12-1\", \"1-2\", \"2-3\", \"3-4\", \"4-5\"]:\n",
    "                print(str(t) + \" not in correct format\")\n",
    "                return False\n",
    "        \n",
    "    if len(times_to_remove) > 0:\n",
    "        for t in times_to_remove:\n",
    "            if t.split(\" \")[0] not in [\"Monday\", \"Tues\", \"Wed\", \"Thur\"] or \\\n",
    "               t.split(\" \")[1] not in [\"10-11\", \"11-12\",\"12-1\", \"1-2\", \"2-3\", \"3-4\", \"4-5\"]:\n",
    "                print(str(t) + \" not in correct format\")\n",
    "                return False\n",
    "    # to do\n",
    "    #   make sure name/class combination is present\n",
    "    #   make sure time to remove is present\n",
    "    #   make sure time to add and time to remove are in the correct form\n",
    "    \n",
    "    for index, row in df.iterrows():\n",
    "        if row[\"name\"] == full_name:\n",
    "            \n",
    "            times = df.at[index, 'times'].split(\", \")\n",
    "            original_times = times\n",
    "            \n",
    "            if len(times_to_add) > 0:\n",
    "                for t in times_to_add:\n",
    "                    if t in times:\n",
    "                        print(full_name + \" already has time \" + str(t))\n",
    "                    else:\n",
    "                        times.append(t)\n",
    "                        print(t + \" has been added to \" + name)\n",
    "            \n",
    "            if len(times_to_remove) > 0:\n",
    "                for t in times_to_remove:\n",
    "                    if t not in times:\n",
    "                        print(full_name + \" does not have time \" + str(t) + \" to remove\")\n",
    "                    else:\n",
    "                        times.remove(t)\n",
    "                        print(t + \" has been removed from \" + name)\n",
    "            \n",
    "            df.at[index, 'times'] = str(\", \".join(times))\n",
    "            \n",
    "    print(full_name + \" now has times: \" + str(times))\n",
    "    \n",
    "    return True"
   ]
  },
  {
   "cell_type": "code",
   "execution_count": 43,
   "metadata": {},
   "outputs": [],
   "source": [
    "# PLACE FUNCTION CALLS BELOW:\n",
    "\n",
    "# EXAMPLE: modifyTimes(\"James Bury\", 401, [\"Monday 4-5\"], [\"Tuesday 1-2\"])\n",
    "# modifyTimes(\"Anna Truelove\", 401, [\"Wed 10-11\"], [\"Thur 1-2\"])\n",
    "# modifyTimes(\"Sarah Bost\", 210, [\"Wed 10-11\", \"Thur 10-11\"], [\"Monday 3-4\", \"Monday 4-5\"])"
   ]
  },
  {
   "cell_type": "markdown",
   "metadata": {},
   "source": [
    "### Sort times"
   ]
  },
  {
   "cell_type": "code",
   "execution_count": 44,
   "metadata": {},
   "outputs": [],
   "source": [
    "all_times = set()\n",
    "\n",
    "for index, row in df.iterrows():\n",
    "    times = str(row[\"times\"]).split(\", \")\n",
    "    for t in times:\n",
    "        if t not in all_times:\n",
    "            all_times.add(t)\n",
    "            \n",
    "all_times = list(all_times)"
   ]
  },
  {
   "cell_type": "code",
   "execution_count": 45,
   "metadata": {},
   "outputs": [],
   "source": [
    "days = [\"Monday\", \"Tues\", \"Wed\", \"Thur\"]\n",
    "time_order = [\"10-11\", \"11-12\", \"12-1\", \"1-2\", \"2-3\", \"3-4\", \"4-5\"]\n",
    "sorted_times = []\n",
    "\n",
    "for d in days:\n",
    "    curr_day = [x for x in all_times if d in x]\n",
    "    for t in time_order:\n",
    "        for c in curr_day:\n",
    "            if t in c:\n",
    "                sorted_times.append(c)"
   ]
  },
  {
   "cell_type": "markdown",
   "metadata": {},
   "source": [
    "### Create LA and Shift classes"
   ]
  },
  {
   "cell_type": "code",
   "execution_count": 46,
   "metadata": {},
   "outputs": [],
   "source": [
    "class LA:\n",
    "    \n",
    "    def __init__(self, name, hours):\n",
    "        self.name = name\n",
    "        self.hours_left = hours + 1\n",
    "        self.hours_committed = hours + 1\n",
    "        self.shifts = []\n",
    "        self.possible_shifts = []\n",
    "        \n",
    "    def assign(self, shift):\n",
    "        if self.hours_left > 0 and \\\n",
    "           (shift not in self.shifts) and \\\n",
    "           self.consecutivePreviousShifts(shift) < 4:\n",
    "            self.hours_left -= 1\n",
    "            self.shifts.append(shift)\n",
    "            return True\n",
    "        else:\n",
    "            return False\n",
    "        \n",
    "    def consecutivePreviousShifts(self, shift):\n",
    "        if shift.previous_shift_title == \"\" or shift.previous_shift_title not in [x.title for x in self.shifts]:\n",
    "            return 0\n",
    "        else:\n",
    "            prev = list(filter(lambda x: x.title == shift.previous_shift_title, self.shifts))\n",
    "            return 1 + self.consecutivePreviousShifts(prev[0])\n",
    "        \n",
    "    def addPossibleShift(self, shift):\n",
    "        self.possible_shifts.append(shift)\n",
    "        \n",
    "    def removePossibleShift(self, shift):\n",
    "        self.possible_shifts.remove(shift)\n",
    "        \n",
    "    def __repr__(self):\n",
    "        return \"name: \" + self.name + \", hours left: \" + str(self.hours_left) + \", shifts: \" + str([x.title for x in self.shifts])\n",
    "        \n",
    "        \n",
    "class Shift:\n",
    "    \n",
    "    def __init__(self, title):\n",
    "        self.title = title\n",
    "        self.workers = []\n",
    "        self.available_workers = []\n",
    "        self.positions_remaining = 6\n",
    "        self.previous_shift_title = \"\"\n",
    "        \n",
    "        if sorted_times.index(self.title) > 0 and \\\n",
    "           sorted_times[sorted_times.index(self.title) - 1].split(\" \")[0] == self.title.split(\" \")[0]:\n",
    "            self.previous_shift_title = sorted_times[sorted_times.index(self.title) - 1]\n",
    "        \n",
    "    def addLAToShift(self, la):\n",
    "        if self.positions_remaining > 0 and (la not in self.workers):\n",
    "            if la.assign(self):\n",
    "                self.workers.append(la)\n",
    "                self.positions_remaining -= 1\n",
    "                return True\n",
    "        else:\n",
    "            return False\n",
    "        \n",
    "    def addAvailableWorker(self, la):\n",
    "        self.available_workers.append(la)\n",
    "        \n",
    "    def removeAvailableWorker(self, la):\n",
    "        self.available_workers.remove(la)\n",
    "        \n",
    "    def __repr__(self):\n",
    "        return \"Shift: \" + self.title + \", LAs assigned: \" + str([x.name for x in self.workers]) + \\\n",
    "               \", positions left: \" + str(self.positions_remaining) + \", available las: \" + \\\n",
    "                str([x.name for x in self.available_workers])"
   ]
  },
  {
   "cell_type": "markdown",
   "metadata": {},
   "source": [
    "### Add time columns, create lists of LAs and shifts"
   ]
  },
  {
   "cell_type": "code",
   "execution_count": 47,
   "metadata": {
    "scrolled": true
   },
   "outputs": [],
   "source": [
    "LAs = []\n",
    "shifts = []\n",
    "\n",
    "for t in sorted_times:\n",
    "    df[t] = 0\n",
    "    shifts.append(Shift(t))\n",
    "    \n",
    "for index, row in df.iterrows():\n",
    "    l = LA(row[\"name\"], row[\"hours\"])\n",
    "    for t in sorted_times:\n",
    "        if t in str(row[\"times\"]).split(\", \"):\n",
    "            df[t][index] = 1\n",
    "            l.addPossibleShift(t)\n",
    "            [x for x in shifts if x.title == t][0].addAvailableWorker(l)\n",
    "    \n",
    "    LAs.append(l)"
   ]
  },
  {
   "cell_type": "markdown",
   "metadata": {},
   "source": [
    "### Sorts shift times based on LAs available"
   ]
  },
  {
   "cell_type": "code",
   "execution_count": 48,
   "metadata": {
    "scrolled": true
   },
   "outputs": [
    {
     "name": "stdout",
     "output_type": "stream",
     "text": [
      "{'Tues 3-4': 1, 'Wed 11-12': 2, 'Thur 3-4': 2, 'Monday 11-12': 3, 'Tues 2-3': 3, 'Wed 12-1': 3, 'Thur 4-5': 3, 'Monday 12-1': 4, 'Monday 3-4': 4, 'Monday 4-5': 4, 'Tues 10-11': 4, 'Thur 10-11': 4, 'Thur 2-3': 4, 'Tues 12-1': 5, 'Tues 4-5': 5, 'Wed 3-4': 5, 'Wed 4-5': 5, 'Thur 1-2': 5, 'Monday 1-2': 6, 'Monday 2-3': 6, 'Tues 11-12': 6, 'Wed 2-3': 6, 'Thur 11-12': 6, 'Thur 12-1': 6, 'Monday 10-11': 7, 'Tues 1-2': 7, 'Wed 10-11': 7, 'Wed 1-2': 8}\n",
      "['Monday 10-11', 'Monday 11-12', 'Monday 12-1', 'Monday 1-2', 'Monday 2-3', 'Monday 3-4', 'Monday 4-5', 'Tues 10-11', 'Tues 11-12', 'Tues 12-1', 'Tues 1-2', 'Tues 2-3', 'Tues 3-4', 'Tues 4-5', 'Wed 10-11', 'Wed 11-12', 'Wed 12-1', 'Wed 1-2', 'Wed 2-3', 'Wed 3-4', 'Wed 4-5', 'Thur 10-11', 'Thur 11-12', 'Thur 12-1', 'Thur 1-2', 'Thur 2-3', 'Thur 3-4', 'Thur 4-5']\n"
     ]
    }
   ],
   "source": [
    "workers = {}\n",
    "\n",
    "for t in sorted_times:\n",
    "    workers[t] = sum(df[t])\n",
    "\n",
    "# Sort by fewest LAs available\n",
    "sorted_workers = {k: v for k, v in sorted(workers.items(), key=lambda item: item[1])}\n",
    "print(sorted_workers)\n",
    "print(sorted_times)"
   ]
  },
  {
   "cell_type": "markdown",
   "metadata": {},
   "source": [
    "### Assigns shifts"
   ]
  },
  {
   "cell_type": "code",
   "execution_count": 49,
   "metadata": {
    "scrolled": false
   },
   "outputs": [],
   "source": [
    "runs_since_changed = 0\n",
    "\n",
    "while not runs_since_changed >= 29:\n",
    "    for t in sorted_workers.keys():\n",
    "        current_shift = [x for x in shifts if x.title == t][0]\n",
    "        for l in current_shift.available_workers:\n",
    "            if current_shift.addLAToShift(l):\n",
    "                runs_since_changed = 0\n",
    "                break\n",
    "    runs_since_changed += 1"
   ]
  },
  {
   "cell_type": "markdown",
   "metadata": {},
   "source": [
    "### Manually Add Shifts After Scheduling"
   ]
  },
  {
   "cell_type": "code",
   "execution_count": 50,
   "metadata": {},
   "outputs": [],
   "source": [
    "def ManualChange(la_name: str, shift_title: str, add: bool) -> bool:\n",
    "    \n",
    "    if len([x for x in LAs if x.name == la_name]) == 0:\n",
    "        print(la_name + \" is not an LA. You may have forgotten the class\")\n",
    "        return False\n",
    "    if len([x for x in shifts if x.title == shift_title]) == 0:\n",
    "        print(shift_title + \" is not a shift.\")\n",
    "        return False\n",
    "    \n",
    "    la_to_assign = [x for x in LAs if x.name == la_name][0]\n",
    "    shift_to_assign = [x for x in shifts if x.title == shift_title][0]\n",
    "    full_name = la_to_assign.name\n",
    "    \n",
    "    # Make sure name is valid\n",
    "    if full_name not in str(df[\"name\"]):\n",
    "        print(full_name + \" not present\")\n",
    "        return False\n",
    "    \n",
    "    # Make sure time is valid\n",
    "    t = shift_to_assign.title\n",
    "    if t.split(\" \")[0] not in [\"Monday\", \"Tues\", \"Wed\", \"Thur\"] or \\\n",
    "       t.split(\" \")[1] not in [\"10-11\", \"11-12\",\"12-1\", \"1-2\", \"2-3\", \"3-4\", \"4-5\"]:\n",
    "        print(str(t) + \" not in correct format\")\n",
    "        return False\n",
    "    \n",
    "    # Make sure LA isn't already working that shift\n",
    "    if (add and la_to_assign.name in [x.name for x in shift_to_assign.workers]) or \\\n",
    "        ((not add) and la_to_assign.name not in [x.name for x in shift_to_assign.workers]):\n",
    "        print(la_to_assign.name + \" is already listed/not listed in \" + shift_to_assign.title)\n",
    "        return False\n",
    "    \n",
    "    if (add and shift_to_assign.title in [x.title for x in la_to_assign.shifts]) or \\\n",
    "        ((not add) and shift_to_assign.title not in [x.title for x in la_to_assign.shifts]):\n",
    "        print(shift_to_assign.title + \" is already listed/not listed in \" + la_to_assign.name + \"\\'s times\")\n",
    "        return False\n",
    "    \n",
    "    if add:\n",
    "        la_to_assign.shifts.append(shift_to_assign)\n",
    "        la_to_assign.hours_left -= 1\n",
    "        shift_to_assign.workers.append(la_to_assign)\n",
    "        shift_to_assign.positions_remaining -= 1\n",
    "        print(la_to_assign)\n",
    "        print(shift_to_assign)\n",
    "\n",
    "        if la_to_assign.hours_left < 0:\n",
    "            print(\"WARNING: \" + la_to_assign.name + \" is working too many hours\")\n",
    "\n",
    "        if shift_to_assign.positions_remaining < 0:\n",
    "            print(\"WARNING: \" + shift_to_assign.title + \" has too many LAs\")\n",
    "    else:\n",
    "        la_to_assign.shifts.remove(shift_to_assign)\n",
    "        la_to_assign.hours_left += 1\n",
    "        shift_to_assign.workers.remove(la_to_assign)\n",
    "        shift_to_assign.positions_remaining += 1\n",
    "        print(la_to_assign)\n",
    "        print(shift_to_assign)\n",
    "    \n",
    "    return True"
   ]
  },
  {
   "cell_type": "code",
   "execution_count": 51,
   "metadata": {},
   "outputs": [
    {
     "name": "stdout",
     "output_type": "stream",
     "text": [
      "name: Anna Truelove (401), hours left: 0, shifts: ['Thur 3-4', 'Monday 11-12', 'Tues 2-3', 'Thur 2-3', 'Monday 10-11', 'Wed 11-12']\n",
      "Shift: Wed 11-12, LAs assigned: ['Halie Chmura (401)', 'Akash Krishna (210)', 'Anna Truelove (401)'], positions left: 3, available las: ['Halie Chmura (401)', 'Akash Krishna (210)']\n",
      "name: Amy Clark (401), hours left: 0, shifts: ['Monday 3-4', 'Monday 1-2', 'Monday 2-3', 'Monday 10-11', 'Tues 1-2', 'Wed 10-11', 'Wed 1-2', 'Thur 1-2']\n",
      "Shift: Thur 1-2, LAs assigned: ['Sarah Bost (210)', 'Nidhi Murlidhar (401)', 'James Bury (401)', 'Amy Clark (401)'], positions left: 2, available las: ['Sarah Bost (210)', 'Dana Rubin (401)', 'Nidhi Murlidhar (401)', 'James Bury (401)', 'Caleb Kang (401)']\n",
      "name: Shannon Goad (401), hours left: 1, shifts: ['Wed 3-4', 'Wed 4-5', 'Monday 2-3', 'Wed 2-3']\n",
      "Shift: Tues 1-2, LAs assigned: ['James Bury (401)', 'Amy Clark (401)', 'Angel Karafas (210)'], positions left: 3, available las: ['Sarah Bost (210)', 'Shannon Goad (401)', 'Dana Rubin (401)', 'Nidhi Murlidhar (401)', 'James Bury (401)', 'Amy Clark (401)', 'Angel Karafas (210)']\n",
      "name: Shannon Goad (401), hours left: 0, shifts: ['Wed 3-4', 'Wed 4-5', 'Monday 2-3', 'Wed 2-3', 'Wed 1-2']\n",
      "Shift: Wed 1-2, LAs assigned: ['Ruchi Sarkar (210)', 'James Bury (401)', 'Amy Clark (401)', 'Shannon Goad (401)'], positions left: 2, available las: ['Shannon Goad (401)', 'Dana Rubin (401)', 'Ruchi Sarkar (210)', 'Nidhi Murlidhar (401)', 'Andrew Wortas (401)', 'James Bury (401)', 'Amy Clark (401)', 'Halie Chmura (401)']\n"
     ]
    },
    {
     "data": {
      "text/plain": [
       "True"
      ]
     },
     "execution_count": 51,
     "metadata": {},
     "output_type": "execute_result"
    }
   ],
   "source": [
    "# ManualChange(\"Caleb Kang (401)\", \"Monday 4-5\", False)\n",
    "# ManualChange(\"Caleb Kang (401)\", \"Wed 3-4\", True)\n",
    "\n",
    "# Anna\n",
    "ManualChange(la_name=\"Anna Truelove (401)\", shift_title=\"Wed 11-12\", add=True)\n",
    "\n",
    "# Amy\n",
    "ManualChange(la_name=\"Amy Clark (401)\", shift_title=\"Thur 1-2\", add=True)\n",
    "\n",
    "# Shannon\n",
    "ManualChange(la_name=\"Shannon Goad (401)\", shift_title=\"Tues 1-2\", add=False)\n",
    "ManualChange(la_name=\"Shannon Goad (401)\", shift_title=\"Wed 1-2\", add=True)"
   ]
  },
  {
   "cell_type": "markdown",
   "metadata": {},
   "source": [
    "### Create HTML file"
   ]
  },
  {
   "cell_type": "code",
   "execution_count": 57,
   "metadata": {
    "scrolled": true
   },
   "outputs": [
    {
     "data": {
      "text/plain": [
       "15703"
      ]
     },
     "execution_count": 57,
     "metadata": {},
     "output_type": "execute_result"
    }
   ],
   "source": [
    "full_days = {\n",
    "    \"Monday\": \"Monday\",\n",
    "    \"Tues\": \"Tuesday\",\n",
    "    \"Wed\": \"Wednesday\",\n",
    "    \"Thur\": \"Thursday\",\n",
    "}\n",
    "\n",
    "html = \"\"\"<!doctype html>\n",
    "<html lang=\"en\">\n",
    "\n",
    "<head>\n",
    "    <!-- Required meta tags -->\n",
    "    <meta charset=\"utf-8\">\n",
    "\n",
    "    <!-- Bootstrap CSS -->\n",
    "    <link rel=\"stylesheet\" href=\"https://stackpath.bootstrapcdn.com/bootstrap/4.4.1/css/bootstrap.min.css\"\n",
    "        integrity=\"sha384-Vkoo8x4CGsO3+Hhxv8T/Q5PaXtkKtu6ug5TOeNV6gBiFeWPGFN9MuhOf23Q9Ifjh\" crossorigin=\"anonymous\">\n",
    "\n",
    "    <title>Home</title>\n",
    "</head>\n",
    "\n",
    "<body>\n",
    "\n",
    "    <div class=\"container\" style=\"margin-top:30px\">\n",
    "    \n",
    "        <a href=\"altView.html\">View shifts by LA</a>\n",
    "        \n",
    "        <br>\n",
    "\n",
    "        <h1>Monday:</h1>\n",
    "        <div class=\"row\">\"\"\"\n",
    "        \n",
    "\n",
    "cols = 0\n",
    "day_index = 0\n",
    "\n",
    "for s in shifts:\n",
    "        \n",
    "    if days[day_index] not in s.title:\n",
    "        day_index += 1\n",
    "        html += \"</div>\\n\"\n",
    "        html += \"<br><h1>\" + full_days[days[day_index]] + \":</h1>\"\n",
    "        html += \"<div class=\\\"row\\\">\"\n",
    "        cols = 0\n",
    "        \n",
    "    time = s.title.split(\" \")[1]\n",
    "    hour = time.split(\"-\")[0]\n",
    "        \n",
    "    html += \"\"\"<div class=\"col-3\">\n",
    "                   <div class=\"card border-dark mb-3\" style=\"max-width: 18rem;\">\n",
    "                       <div class=\"card-header\">\"\"\" + str(time + \" am\" if int(hour) == 10 else time + \" pm\") + \"\"\"</div>\n",
    "                       <div class=\"card-body text-dark\">\n",
    "                           <ul>\"\"\"\n",
    "    \n",
    "    for l in sorted(s.workers, key=lambda x: (x.name)):\n",
    "        html += \"<li><p class=\\\"card-text\\\">\" + l.name + \"</p></li>\"\n",
    "\n",
    "    html += \"\"\"             </ul>\n",
    "                       </div>\n",
    "                   </div>\n",
    "               </div>\"\"\"\n",
    "    cols += 1\n",
    "            \n",
    "html +=\"\"\"</div>\n",
    "    </div>\n",
    "\n",
    "    <!-- Optional JavaScript -->\n",
    "    <!-- jQuery first, then Popper.js, then Bootstrap JS -->\n",
    "    <script src=\"https://code.jquery.com/jquery-3.4.1.slim.min.js\"\n",
    "        integrity=\"sha384-J6qa4849blE2+poT4WnyKhv5vZF5SrPo0iEjwBvKU7imGFAV0wwj1yYfoRSJoZ+n\"\n",
    "        crossorigin=\"anonymous\"></script>\n",
    "    <script src=\"https://cdn.jsdelivr.net/npm/popper.js@1.16.0/dist/umd/popper.min.js\"\n",
    "        integrity=\"sha384-Q6E9RHvbIyZFJoft+2mJbHaEWldlvI9IOYy5n3zV9zzTtmI3UksdQRVvoxMfooAo\"\n",
    "        crossorigin=\"anonymous\"></script>\n",
    "    <script src=\"https://stackpath.bootstrapcdn.com/bootstrap/4.4.1/js/bootstrap.min.js\"\n",
    "        integrity=\"sha384-wfSDF2E50Y2D1uUdj0O3uMBJnjuUD4Ih7YwaYd1iqfktj0Uod8GCExl3Og8ifwB6\"\n",
    "        crossorigin=\"anonymous\"></script>\n",
    "</body>\n",
    "\n",
    "</html>\"\"\"\n",
    "\n",
    "file = open(\"index.html\", \"w\")\n",
    "file.write(html)"
   ]
  },
  {
   "cell_type": "code",
   "execution_count": 61,
   "metadata": {},
   "outputs": [
    {
     "data": {
      "text/plain": [
       "5673"
      ]
     },
     "execution_count": 61,
     "metadata": {},
     "output_type": "execute_result"
    }
   ],
   "source": [
    "html = \"\"\"<!doctype html>\n",
    "<html lang=\"en\">\n",
    "\n",
    "<head>\n",
    "    <!-- Required meta tags -->\n",
    "    <meta charset=\"utf-8\">\n",
    "    <meta name=\"viewport\" content=\"width=device-width, initial-scale=1, shrink-to-fit=no\">\n",
    "\n",
    "    <!-- Bootstrap CSS -->\n",
    "    <link rel=\"stylesheet\" href=\"https://stackpath.bootstrapcdn.com/bootstrap/4.4.1/css/bootstrap.min.css\"\n",
    "        integrity=\"sha384-Vkoo8x4CGsO3+Hhxv8T/Q5PaXtkKtu6ug5TOeNV6gBiFeWPGFN9MuhOf23Q9Ifjh\" crossorigin=\"anonymous\">\n",
    "\n",
    "    <title>LA View</title>\n",
    "</head>\n",
    "\n",
    "<body>\n",
    "\n",
    "    <div class=\"container\" style=\"margin-top:30px\">\n",
    "    \n",
    "        <a href=\"index.html\">Home</a>\n",
    "        <br>\n",
    "        <br>\"\"\"\n",
    "        \n",
    "for l in sorted(LAs, key=lambda x: (x.name)):\n",
    "    html += \"<h3>\" + l.name + \"</h3>\"\n",
    "    html += \"<ul>\"\n",
    "    for t in sorted_times:\n",
    "        for s in l.shifts:\n",
    "            if s.title == t:\n",
    "                time = s.title.split(\" \")[1]\n",
    "                hour = time.split(\"-\")[0]\n",
    "                html += \"<li>\" + full_days[s.title.split(\" \")[0]] + \": \" + str(time + \" am\" if int(hour) == 10 else time + \" pm\") + \"</li>\\n\"\n",
    "                html += \"\"\"\n",
    "                \"\"\"\n",
    "    html += \"</ul>\"\n",
    "    \n",
    "html += \"\"\"</div>\n",
    "\n",
    "    <!-- Optional JavaScript -->\n",
    "    <!-- jQuery first, then Popper.js, then Bootstrap JS -->\n",
    "    <script src=\"https://code.jquery.com/jquery-3.4.1.slim.min.js\"\n",
    "        integrity=\"sha384-J6qa4849blE2+poT4WnyKhv5vZF5SrPo0iEjwBvKU7imGFAV0wwj1yYfoRSJoZ+n\"\n",
    "        crossorigin=\"anonymous\"></script>\n",
    "    <script src=\"https://cdn.jsdelivr.net/npm/popper.js@1.16.0/dist/umd/popper.min.js\"\n",
    "        integrity=\"sha384-Q6E9RHvbIyZFJoft+2mJbHaEWldlvI9IOYy5n3zV9zzTtmI3UksdQRVvoxMfooAo\"\n",
    "        crossorigin=\"anonymous\"></script>\n",
    "    <script src=\"https://stackpath.bootstrapcdn.com/bootstrap/4.4.1/js/bootstrap.min.js\"\n",
    "        integrity=\"sha384-wfSDF2E50Y2D1uUdj0O3uMBJnjuUD4Ih7YwaYd1iqfktj0Uod8GCExl3Og8ifwB6\"\n",
    "        crossorigin=\"anonymous\"></script>\n",
    "</body>\n",
    "\n",
    "</html>\"\"\"\n",
    "\n",
    "file = open(\"altView.html\", \"w\")\n",
    "file.write(html)"
   ]
  }
 ],
 "metadata": {
  "kernelspec": {
   "display_name": "Python 3",
   "language": "python",
   "name": "python3"
  },
  "language_info": {
   "codemirror_mode": {
    "name": "ipython",
    "version": 3
   },
   "file_extension": ".py",
   "mimetype": "text/x-python",
   "name": "python",
   "nbconvert_exporter": "python",
   "pygments_lexer": "ipython3",
   "version": "3.7.4"
  }
 },
 "nbformat": 4,
 "nbformat_minor": 2
}
