{
 "cells": [
  {
   "cell_type": "code",
   "execution_count": 1,
   "metadata": {},
   "outputs": [],
   "source": [
    "import pandas as pd\n",
    "pd.options.mode.chained_assignment = None  # default='warn'"
   ]
  },
  {
   "cell_type": "markdown",
   "metadata": {},
   "source": [
    "### Read and clean csv"
   ]
  },
  {
   "cell_type": "code",
   "execution_count": 2,
   "metadata": {},
   "outputs": [
    {
     "data": {
      "text/html": [
       "<div>\n",
       "<style scoped>\n",
       "    .dataframe tbody tr th:only-of-type {\n",
       "        vertical-align: middle;\n",
       "    }\n",
       "\n",
       "    .dataframe tbody tr th {\n",
       "        vertical-align: top;\n",
       "    }\n",
       "\n",
       "    .dataframe thead th {\n",
       "        text-align: right;\n",
       "    }\n",
       "</style>\n",
       "<table border=\"1\" class=\"dataframe\">\n",
       "  <thead>\n",
       "    <tr style=\"text-align: right;\">\n",
       "      <th></th>\n",
       "      <th>name</th>\n",
       "      <th>times</th>\n",
       "    </tr>\n",
       "  </thead>\n",
       "  <tbody>\n",
       "    <tr>\n",
       "      <td>0</td>\n",
       "      <td>Amy Clark (401)</td>\n",
       "      <td>Monday 1-2, Monday 2-3, Monday 3-4, Monday 4-5...</td>\n",
       "    </tr>\n",
       "    <tr>\n",
       "      <td>1</td>\n",
       "      <td>Ruchi Sarkar (210)</td>\n",
       "      <td>Monday 10-11, Monday 1-2, Tues 10-11, Tues 11-...</td>\n",
       "    </tr>\n",
       "    <tr>\n",
       "      <td>2</td>\n",
       "      <td>Dana Rubin (401)</td>\n",
       "      <td>Monday 10-11, Monday 1-2, Monday 4-5, Tues 1-2...</td>\n",
       "    </tr>\n",
       "    <tr>\n",
       "      <td>3</td>\n",
       "      <td>Nidhi Murlidhar (401)</td>\n",
       "      <td>Monday 4-5, Tues 10-11, Tues 11-12, Tues 12-1,...</td>\n",
       "    </tr>\n",
       "    <tr>\n",
       "      <td>4</td>\n",
       "      <td>Andrew Wortas (401)</td>\n",
       "      <td>Monday 10-11, Monday 1-2, Monday 2-3, Monday 3...</td>\n",
       "    </tr>\n",
       "  </tbody>\n",
       "</table>\n",
       "</div>"
      ],
      "text/plain": [
       "                    name                                              times\n",
       "0        Amy Clark (401)  Monday 1-2, Monday 2-3, Monday 3-4, Monday 4-5...\n",
       "1     Ruchi Sarkar (210)  Monday 10-11, Monday 1-2, Tues 10-11, Tues 11-...\n",
       "2       Dana Rubin (401)  Monday 10-11, Monday 1-2, Monday 4-5, Tues 1-2...\n",
       "3  Nidhi Murlidhar (401)  Monday 4-5, Tues 10-11, Tues 11-12, Tues 12-1,...\n",
       "4    Andrew Wortas (401)  Monday 10-11, Monday 1-2, Monday 2-3, Monday 3..."
      ]
     },
     "execution_count": 2,
     "metadata": {},
     "output_type": "execute_result"
    }
   ],
   "source": [
    "df = pd.read_csv(\"las3.csv\").drop(columns=[\"Timestamp\", \"Empty\"]).rename(columns={\n",
    "    \"What is your name?\": \"name\",\n",
    "    \"For each of the following, choose which days and times you are available (Please try to put at LEAST 10 available slots)\": \"times\"\n",
    "}).dropna()\n",
    "df.head()"
   ]
  },
  {
   "cell_type": "code",
   "execution_count": 3,
   "metadata": {},
   "outputs": [],
   "source": [
    "all_times = set()\n",
    "\n",
    "for index, row in df.iterrows():\n",
    "    times = str(row[\"times\"]).split(\", \")\n",
    "    for t in times:\n",
    "        if t not in all_times:\n",
    "            all_times.add(t)\n",
    "            \n",
    "all_times = list(all_times)"
   ]
  },
  {
   "cell_type": "markdown",
   "metadata": {},
   "source": [
    "### Sort times"
   ]
  },
  {
   "cell_type": "code",
   "execution_count": 4,
   "metadata": {},
   "outputs": [],
   "source": [
    "days = [\"Monday\", \"Tues\", \"Wed\", \"Thur\"]\n",
    "time_order = [\"10-11\", \"11-12\", \"12-1\", \"1-2\", \"2-3\", \"3-4\", \"4-5\"]\n",
    "sorted_times = []\n",
    "\n",
    "for d in days:\n",
    "    curr_day = [x for x in all_times if d in x]\n",
    "    for t in time_order:\n",
    "        for c in curr_day:\n",
    "            if t in c:\n",
    "                sorted_times.append(c)"
   ]
  },
  {
   "cell_type": "markdown",
   "metadata": {},
   "source": [
    "### Create LA and Shift classes"
   ]
  },
  {
   "cell_type": "code",
   "execution_count": 5,
   "metadata": {},
   "outputs": [],
   "source": [
    "class LA:\n",
    "    \n",
    "    def __init__(self, name):\n",
    "        self.name = name\n",
    "        self.hours_left = 8\n",
    "        self.shifts = []\n",
    "        self.possible_shifts = []\n",
    "        \n",
    "    def assign(self, shift):\n",
    "        if self.hours_left > 0 and (shift not in self.shifts):\n",
    "            self.hours_left -= 1\n",
    "            self.shifts.append(shift)\n",
    "            return True\n",
    "        else:\n",
    "            return False\n",
    "        \n",
    "    def addPossibleShift(self, shift):\n",
    "        self.possible_shifts.append(shift)\n",
    "        \n",
    "    def __repr__(self):\n",
    "        return \"name: \" + self.name + \", hours left: \" + str(self.hours_left) + \", shifts: \" + str([x.title for x in self.shifts])\n",
    "        \n",
    "        \n",
    "class Shift:\n",
    "    \n",
    "    def __init__(self, title):\n",
    "        self.title = title\n",
    "        self.workers = []\n",
    "        self.available_workers = []\n",
    "        self.positions_remaining = 5\n",
    "        \n",
    "    def addLAToShift(self, la):\n",
    "        if self.positions_remaining > 0 and (la not in self.workers):\n",
    "            if la.assign(self):\n",
    "                self.workers.append(la)\n",
    "                self.positions_remaining -= 1\n",
    "                return True\n",
    "        else:\n",
    "            return False\n",
    "        \n",
    "    def addAvailableWorker(self, la):\n",
    "        self.available_workers.append(la)\n",
    "        \n",
    "    def __repr__(self):\n",
    "        return \"Shift: \" + self.title + \", LAs assigned: \" + str([x.name for x in self.workers]) + \\\n",
    "               \", positions left: \" + str(self.positions_remaining) + \", available las: \" + \\\n",
    "                str([x.name for x in self.available_workers])"
   ]
  },
  {
   "cell_type": "markdown",
   "metadata": {},
   "source": [
    "### Add time columns"
   ]
  },
  {
   "cell_type": "code",
   "execution_count": 6,
   "metadata": {
    "scrolled": true
   },
   "outputs": [],
   "source": [
    "LAs = []\n",
    "shifts = []\n",
    "\n",
    "for t in sorted_times:\n",
    "    df[t] = 0\n",
    "    shifts.append(Shift(t))\n",
    "    \n",
    "for index, row in df.iterrows():\n",
    "    l = LA(row[\"name\"])\n",
    "    for t in sorted_times:\n",
    "        if t in str(row[\"times\"]).split(\", \"):\n",
    "            df[t][index] = 1\n",
    "            l.addPossibleShift(t)\n",
    "            [x for x in shifts if x.title == t][0].addAvailableWorker(l)\n",
    "    \n",
    "    LAs.append(l)"
   ]
  },
  {
   "cell_type": "markdown",
   "metadata": {},
   "source": [
    "### Sorts shift times based on LAs available"
   ]
  },
  {
   "cell_type": "code",
   "execution_count": 7,
   "metadata": {
    "scrolled": true
   },
   "outputs": [
    {
     "data": {
      "text/plain": [
       "{'Monday 12-1': 2,\n",
       " 'Monday 11-12': 3,\n",
       " 'Wed 11-12': 3,\n",
       " 'Wed 12-1': 3,\n",
       " 'Thur 2-3': 3,\n",
       " 'Thur 3-4': 3,\n",
       " 'Tues 2-3': 4,\n",
       " 'Tues 3-4': 4,\n",
       " 'Thur 4-5': 4,\n",
       " 'Tues 10-11': 5,\n",
       " 'Tues 1-2': 5,\n",
       " 'Tues 4-5': 5,\n",
       " 'Wed 3-4': 5,\n",
       " 'Thur 10-11': 5,\n",
       " 'Thur 12-1': 5,\n",
       " 'Thur 1-2': 5,\n",
       " 'Monday 10-11': 6,\n",
       " 'Monday 3-4': 6,\n",
       " 'Tues 12-1': 6,\n",
       " 'Wed 4-5': 6,\n",
       " 'Monday 1-2': 7,\n",
       " 'Wed 10-11': 7,\n",
       " 'Thur 11-12': 7,\n",
       " 'Monday 2-3': 8,\n",
       " 'Monday 4-5': 8,\n",
       " 'Tues 11-12': 8,\n",
       " 'Wed 1-2': 8,\n",
       " 'Wed 2-3': 8}"
      ]
     },
     "execution_count": 7,
     "metadata": {},
     "output_type": "execute_result"
    }
   ],
   "source": [
    "workers = {}\n",
    "\n",
    "for t in sorted_times:\n",
    "    workers[t] = sum(df[t])\n",
    "\n",
    "# Sort by fewest LAs available\n",
    "sorted_workers = {k: v for k, v in sorted(workers.items(), key=lambda item: item[1])}\n",
    "sorted_workers"
   ]
  },
  {
   "cell_type": "markdown",
   "metadata": {},
   "source": [
    "### Assigns shifts"
   ]
  },
  {
   "cell_type": "code",
   "execution_count": 8,
   "metadata": {
    "scrolled": false
   },
   "outputs": [],
   "source": [
    "runs_since_changed = 0\n",
    "\n",
    "while not runs_since_changed >= 29:\n",
    "    for t in sorted_times:\n",
    "        current_shift = [x for x in shifts if x.title == t][0]\n",
    "        for l in current_shift.available_workers:\n",
    "            if current_shift.addLAToShift(l):\n",
    "                runs_since_changed = 0\n",
    "                break\n",
    "    runs_since_changed += 1"
   ]
  },
  {
   "cell_type": "markdown",
   "metadata": {},
   "source": [
    "### Create HTML file"
   ]
  },
  {
   "cell_type": "code",
   "execution_count": 22,
   "metadata": {
    "scrolled": true
   },
   "outputs": [
    {
     "data": {
      "text/plain": [
       "16923"
      ]
     },
     "execution_count": 22,
     "metadata": {},
     "output_type": "execute_result"
    }
   ],
   "source": [
    "full_days = {\n",
    "    \"Monday\": \"Monday\",\n",
    "    \"Tues\": \"Tuesday\",\n",
    "    \"Wed\": \"Wednesday\",\n",
    "    \"Thur\": \"Thursday\",\n",
    "}\n",
    "\n",
    "html = \"\"\"<!doctype html>\n",
    "<html lang=\"en\">\n",
    "\n",
    "<head>\n",
    "    <!-- Required meta tags -->\n",
    "    <meta charset=\"utf-8\">\n",
    "\n",
    "    <!-- Bootstrap CSS -->\n",
    "    <link rel=\"stylesheet\" href=\"https://stackpath.bootstrapcdn.com/bootstrap/4.4.1/css/bootstrap.min.css\"\n",
    "        integrity=\"sha384-Vkoo8x4CGsO3+Hhxv8T/Q5PaXtkKtu6ug5TOeNV6gBiFeWPGFN9MuhOf23Q9Ifjh\" crossorigin=\"anonymous\">\n",
    "\n",
    "    <title>Home</title>\n",
    "</head>\n",
    "\n",
    "<body>\n",
    "\n",
    "    <div class=\"container\" style=\"margin-top:30px\">\n",
    "    \n",
    "        <a href=\"altView.html\">View shifts by LA</a>\n",
    "        \n",
    "        <br>\n",
    "\n",
    "        <h1>Monday:</h1>\n",
    "        <div class=\"row\">\"\"\"\n",
    "        \n",
    "\n",
    "cols = 0\n",
    "day_index = 0\n",
    "\n",
    "for s in shifts:\n",
    "        \n",
    "    if days[day_index] not in s.title:\n",
    "        day_index += 1\n",
    "        html += \"</div>\\n\"\n",
    "        html += \"<br><h1>\" + full_days[days[day_index]] + \":</h1>\"\n",
    "        html += \"<div class=\\\"row\\\">\"\n",
    "        cols = 0\n",
    "        \n",
    "    time = s.title.split(\" \")[1]\n",
    "    hour = time.split(\"-\")[0]\n",
    "        \n",
    "    html += \"\"\"<div class=\"col-3\">\n",
    "                   <div class=\"card border-dark mb-3\" style=\"max-width: 18rem;\">\n",
    "                       <div class=\"card-header\">\"\"\" + str(time + \" am\" if int(hour) == 10 else time + \" pm\") + \"\"\"</div>\n",
    "                       <div class=\"card-body text-dark\">\n",
    "                           <ul>\"\"\"\n",
    "    \n",
    "    for l in s.workers:\n",
    "        html += \"<li><p class=\\\"card-text\\\">\" + l.name + \"</p></li>\"\n",
    "\n",
    "    html += \"\"\"             </ul>\n",
    "                       </div>\n",
    "                   </div>\n",
    "               </div>\"\"\"\n",
    "    cols += 1\n",
    "            \n",
    "html +=\"\"\"</div>\n",
    "    </div>\n",
    "\n",
    "    <!-- Optional JavaScript -->\n",
    "    <!-- jQuery first, then Popper.js, then Bootstrap JS -->\n",
    "    <script src=\"https://code.jquery.com/jquery-3.4.1.slim.min.js\"\n",
    "        integrity=\"sha384-J6qa4849blE2+poT4WnyKhv5vZF5SrPo0iEjwBvKU7imGFAV0wwj1yYfoRSJoZ+n\"\n",
    "        crossorigin=\"anonymous\"></script>\n",
    "    <script src=\"https://cdn.jsdelivr.net/npm/popper.js@1.16.0/dist/umd/popper.min.js\"\n",
    "        integrity=\"sha384-Q6E9RHvbIyZFJoft+2mJbHaEWldlvI9IOYy5n3zV9zzTtmI3UksdQRVvoxMfooAo\"\n",
    "        crossorigin=\"anonymous\"></script>\n",
    "    <script src=\"https://stackpath.bootstrapcdn.com/bootstrap/4.4.1/js/bootstrap.min.js\"\n",
    "        integrity=\"sha384-wfSDF2E50Y2D1uUdj0O3uMBJnjuUD4Ih7YwaYd1iqfktj0Uod8GCExl3Og8ifwB6\"\n",
    "        crossorigin=\"anonymous\"></script>\n",
    "</body>\n",
    "\n",
    "</html>\"\"\"\n",
    "\n",
    "file = open(\"index.html\", \"w\")\n",
    "file.write(html)"
   ]
  },
  {
   "cell_type": "code",
   "execution_count": 18,
   "metadata": {},
   "outputs": [
    {
     "data": {
      "text/plain": [
       "4641"
      ]
     },
     "execution_count": 18,
     "metadata": {},
     "output_type": "execute_result"
    }
   ],
   "source": [
    "html = \"\"\"<!doctype html>\n",
    "<html lang=\"en\">\n",
    "\n",
    "<head>\n",
    "    <!-- Required meta tags -->\n",
    "    <meta charset=\"utf-8\">\n",
    "    <meta name=\"viewport\" content=\"width=device-width, initial-scale=1, shrink-to-fit=no\">\n",
    "\n",
    "    <!-- Bootstrap CSS -->\n",
    "    <link rel=\"stylesheet\" href=\"https://stackpath.bootstrapcdn.com/bootstrap/4.4.1/css/bootstrap.min.css\"\n",
    "        integrity=\"sha384-Vkoo8x4CGsO3+Hhxv8T/Q5PaXtkKtu6ug5TOeNV6gBiFeWPGFN9MuhOf23Q9Ifjh\" crossorigin=\"anonymous\">\n",
    "\n",
    "    <title>LA View</title>\n",
    "</head>\n",
    "\n",
    "<body>\n",
    "\n",
    "    <div class=\"container\" style=\"margin-top:30px\">\n",
    "    \n",
    "        <a href=\"index.html\">Home</a>\n",
    "        <br>\n",
    "        <br>\"\"\"\n",
    "        \n",
    "for l in LAs:\n",
    "    html += \"<h3>\" + l.name + \"</h3>\"\n",
    "    html += \"<ul>\"\n",
    "    for t in sorted_times:\n",
    "        for s in l.shifts:\n",
    "            if s.title == t:\n",
    "                time = s.title.split(\" \")[1]\n",
    "                hour = time.split(\"-\")[0]\n",
    "                html += \"<li>\" + full_days[s.title.split(\" \")[0]] + \": \" + str(time + \" am\" if int(hour) == 10 else time + \" pm\") + \"</li>\"\n",
    "\n",
    "    html += \"</ul>\"\n",
    "    \n",
    "html += \"\"\"</div>\n",
    "\n",
    "    <!-- Optional JavaScript -->\n",
    "    <!-- jQuery first, then Popper.js, then Bootstrap JS -->\n",
    "    <script src=\"https://code.jquery.com/jquery-3.4.1.slim.min.js\"\n",
    "        integrity=\"sha384-J6qa4849blE2+poT4WnyKhv5vZF5SrPo0iEjwBvKU7imGFAV0wwj1yYfoRSJoZ+n\"\n",
    "        crossorigin=\"anonymous\"></script>\n",
    "    <script src=\"https://cdn.jsdelivr.net/npm/popper.js@1.16.0/dist/umd/popper.min.js\"\n",
    "        integrity=\"sha384-Q6E9RHvbIyZFJoft+2mJbHaEWldlvI9IOYy5n3zV9zzTtmI3UksdQRVvoxMfooAo\"\n",
    "        crossorigin=\"anonymous\"></script>\n",
    "    <script src=\"https://stackpath.bootstrapcdn.com/bootstrap/4.4.1/js/bootstrap.min.js\"\n",
    "        integrity=\"sha384-wfSDF2E50Y2D1uUdj0O3uMBJnjuUD4Ih7YwaYd1iqfktj0Uod8GCExl3Og8ifwB6\"\n",
    "        crossorigin=\"anonymous\"></script>\n",
    "</body>\n",
    "\n",
    "</html>\"\"\"\n",
    "\n",
    "file = open(\"altView.html\", \"w\")\n",
    "file.write(html)"
   ]
  }
 ],
 "metadata": {
  "kernelspec": {
   "display_name": "Python 3",
   "language": "python",
   "name": "python3"
  },
  "language_info": {
   "codemirror_mode": {
    "name": "ipython",
    "version": 3
   },
   "file_extension": ".py",
   "mimetype": "text/x-python",
   "name": "python",
   "nbconvert_exporter": "python",
   "pygments_lexer": "ipython3",
   "version": "3.7.4"
  }
 },
 "nbformat": 4,
 "nbformat_minor": 2
}
