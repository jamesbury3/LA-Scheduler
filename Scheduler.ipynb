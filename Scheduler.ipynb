{
 "cells": [
  {
   "cell_type": "code",
   "execution_count": 2,
   "metadata": {},
   "outputs": [],
   "source": [
    "import pandas as pd\n",
    "pd.options.mode.chained_assignment = None  # default='warn'"
   ]
  },
  {
   "cell_type": "markdown",
   "metadata": {},
   "source": [
    "### Read and clean csv"
   ]
  },
  {
   "cell_type": "code",
   "execution_count": 3,
   "metadata": {},
   "outputs": [
    {
     "data": {
      "text/html": [
       "<div>\n",
       "<style scoped>\n",
       "    .dataframe tbody tr th:only-of-type {\n",
       "        vertical-align: middle;\n",
       "    }\n",
       "\n",
       "    .dataframe tbody tr th {\n",
       "        vertical-align: top;\n",
       "    }\n",
       "\n",
       "    .dataframe thead th {\n",
       "        text-align: right;\n",
       "    }\n",
       "</style>\n",
       "<table border=\"1\" class=\"dataframe\">\n",
       "  <thead>\n",
       "    <tr style=\"text-align: right;\">\n",
       "      <th></th>\n",
       "      <th>name</th>\n",
       "      <th>times</th>\n",
       "    </tr>\n",
       "  </thead>\n",
       "  <tbody>\n",
       "    <tr>\n",
       "      <td>0</td>\n",
       "      <td>Amy Clark</td>\n",
       "      <td>Monday 1-2, Monday 2-3, Monday 3-4, Monday 4-5...</td>\n",
       "    </tr>\n",
       "    <tr>\n",
       "      <td>1</td>\n",
       "      <td>Ruchi Sarkar</td>\n",
       "      <td>Monday 10-11, Monday 1-2, Tues 10-11, Tues 11-...</td>\n",
       "    </tr>\n",
       "    <tr>\n",
       "      <td>2</td>\n",
       "      <td>Dana Rubin</td>\n",
       "      <td>Monday 10-11, Monday 1-2, Monday 4-5, Tues 1-2...</td>\n",
       "    </tr>\n",
       "    <tr>\n",
       "      <td>3</td>\n",
       "      <td>Nidhi Murlidhar</td>\n",
       "      <td>Monday 4-5, Tues 10-11, Tues 11-12, Tues 12-1,...</td>\n",
       "    </tr>\n",
       "    <tr>\n",
       "      <td>5</td>\n",
       "      <td>Natasha Vaidya</td>\n",
       "      <td>Monday 1-2, Monday 2-3, Monday 3-4, Monday 4-5...</td>\n",
       "    </tr>\n",
       "  </tbody>\n",
       "</table>\n",
       "</div>"
      ],
      "text/plain": [
       "              name                                              times\n",
       "0        Amy Clark  Monday 1-2, Monday 2-3, Monday 3-4, Monday 4-5...\n",
       "1    Ruchi Sarkar   Monday 10-11, Monday 1-2, Tues 10-11, Tues 11-...\n",
       "2       Dana Rubin  Monday 10-11, Monday 1-2, Monday 4-5, Tues 1-2...\n",
       "3  Nidhi Murlidhar  Monday 4-5, Tues 10-11, Tues 11-12, Tues 12-1,...\n",
       "5   Natasha Vaidya  Monday 1-2, Monday 2-3, Monday 3-4, Monday 4-5..."
      ]
     },
     "execution_count": 3,
     "metadata": {},
     "output_type": "execute_result"
    }
   ],
   "source": [
    "df = pd.read_csv(\"las2.csv\").drop(columns=[\"Timestamp\", \"Empty\"]).rename(columns={\n",
    "    \"What is your name?\": \"name\",\n",
    "    \"For each of the following, choose which days and times you are available (Please try to put at LEAST 10 available slots)\": \"times\"\n",
    "}).dropna()\n",
    "df.head()"
   ]
  },
  {
   "cell_type": "code",
   "execution_count": 4,
   "metadata": {},
   "outputs": [],
   "source": [
    "all_times = set()\n",
    "\n",
    "for index, row in df.iterrows():\n",
    "    times = str(row[\"times\"]).split(\", \")\n",
    "    for t in times:\n",
    "        if t not in all_times:\n",
    "            all_times.add(t)\n",
    "            \n",
    "all_times = list(all_times)"
   ]
  },
  {
   "cell_type": "markdown",
   "metadata": {},
   "source": [
    "### Sort times"
   ]
  },
  {
   "cell_type": "code",
   "execution_count": 5,
   "metadata": {},
   "outputs": [],
   "source": [
    "days = [\"Monday\", \"Tues\", \"Wed\", \"Thur\"]\n",
    "time_order = [\"10-11\", \"11-12\", \"12-1\", \"1-2\", \"2-3\", \"3-4\", \"4-5\"]\n",
    "sorted_times = []\n",
    "\n",
    "for d in days:\n",
    "    curr_day = [x for x in all_times if d in x]\n",
    "    for t in time_order:\n",
    "        for c in curr_day:\n",
    "            if t in c:\n",
    "                sorted_times.append(c)"
   ]
  },
  {
   "cell_type": "markdown",
   "metadata": {},
   "source": [
    "### Create LA and Shift classes"
   ]
  },
  {
   "cell_type": "code",
   "execution_count": 6,
   "metadata": {},
   "outputs": [],
   "source": [
    "class LA:\n",
    "    \n",
    "    def __init__(self, name):\n",
    "        self.name = name\n",
    "        self.hours_left = 6\n",
    "        self.shifts = []\n",
    "        self.possible_shifts = []\n",
    "        \n",
    "    def assign(self, shift):\n",
    "        if self.hours_left > 0 and (shift not in self.shifts):\n",
    "            self.hours_left -= 1\n",
    "            self.shifts.append(shift)\n",
    "            return True\n",
    "        else:\n",
    "            return False\n",
    "        \n",
    "    def addPossibleShift(self, shift):\n",
    "        self.possible_shifts.append(shift)\n",
    "        \n",
    "    def __repr__(self):\n",
    "        return \"name: \" + self.name + \", hours left: \" + str(self.hours_left) + \", shifts: \" + str([x.title for x in self.shifts])\n",
    "        \n",
    "        \n",
    "class Shift:\n",
    "    \n",
    "    def __init__(self, title):\n",
    "        self.title = title\n",
    "        self.workers = []\n",
    "        self.available_workers = []\n",
    "        self.positions_remaining = 4\n",
    "        \n",
    "    def addLAToShift(self, la):\n",
    "        if self.positions_remaining > 0 and (la not in self.workers):\n",
    "            if la.assign(self):\n",
    "                self.workers.append(la)\n",
    "                self.positions_remaining -= 1\n",
    "                return True\n",
    "        else:\n",
    "            return False\n",
    "        \n",
    "    def addAvailableWorker(self, la):\n",
    "        self.available_workers.append(la)\n",
    "        \n",
    "    def __repr__(self):\n",
    "        return \"Shift: \" + self.title + \", LAs assigned: \" + str([x.name for x in self.workers]) + \\\n",
    "               \", positions left: \" + str(self.positions_remaining) + \", available las: \" + \\\n",
    "                str([x.name for x in self.available_workers])"
   ]
  },
  {
   "cell_type": "markdown",
   "metadata": {},
   "source": [
    "### Add time columns"
   ]
  },
  {
   "cell_type": "code",
   "execution_count": 7,
   "metadata": {
    "scrolled": true
   },
   "outputs": [],
   "source": [
    "LAs = []\n",
    "shifts = []\n",
    "\n",
    "for t in sorted_times:\n",
    "    df[t] = 0\n",
    "    shifts.append(Shift(t))\n",
    "    \n",
    "for index, row in df.iterrows():\n",
    "    l = LA(row[\"name\"])\n",
    "    for t in sorted_times:\n",
    "        if t in str(row[\"times\"]).split(\", \"):\n",
    "            df[t][index] = 1\n",
    "            l.addPossibleShift(t)\n",
    "            [x for x in shifts if x.title == t][0].addAvailableWorker(l)\n",
    "    \n",
    "    LAs.append(l)"
   ]
  },
  {
   "cell_type": "markdown",
   "metadata": {},
   "source": [
    "### Sorts shift times based on LAs available"
   ]
  },
  {
   "cell_type": "code",
   "execution_count": 8,
   "metadata": {
    "scrolled": true
   },
   "outputs": [
    {
     "data": {
      "text/plain": [
       "{'Monday 12-1': 2,\n",
       " 'Wed 12-1': 2,\n",
       " 'Monday 11-12': 3,\n",
       " 'Wed 11-12': 3,\n",
       " 'Thur 2-3': 3,\n",
       " 'Thur 3-4': 3,\n",
       " 'Tues 2-3': 4,\n",
       " 'Tues 3-4': 4,\n",
       " 'Thur 4-5': 4,\n",
       " 'Monday 10-11': 5,\n",
       " 'Monday 3-4': 5,\n",
       " 'Tues 10-11': 5,\n",
       " 'Tues 1-2': 5,\n",
       " 'Tues 4-5': 5,\n",
       " 'Wed 3-4': 5,\n",
       " 'Thur 10-11': 5,\n",
       " 'Thur 12-1': 5,\n",
       " 'Thur 1-2': 5,\n",
       " 'Monday 1-2': 6,\n",
       " 'Tues 12-1': 6,\n",
       " 'Wed 10-11': 6,\n",
       " 'Wed 4-5': 6,\n",
       " 'Monday 2-3': 7,\n",
       " 'Monday 4-5': 7,\n",
       " 'Tues 11-12': 7,\n",
       " 'Wed 1-2': 7,\n",
       " 'Wed 2-3': 7,\n",
       " 'Thur 11-12': 7}"
      ]
     },
     "execution_count": 8,
     "metadata": {},
     "output_type": "execute_result"
    }
   ],
   "source": [
    "workers = {}\n",
    "\n",
    "for t in sorted_times:\n",
    "    workers[t] = sum(df[t])\n",
    "\n",
    "# Sort by fewest LAs available\n",
    "sorted_workers = {k: v for k, v in sorted(workers.items(), key=lambda item: item[1])}\n",
    "sorted_workers"
   ]
  },
  {
   "cell_type": "markdown",
   "metadata": {},
   "source": [
    "### Assigns and displays shifts"
   ]
  },
  {
   "cell_type": "code",
   "execution_count": 9,
   "metadata": {
    "scrolled": false
   },
   "outputs": [
    {
     "name": "stdout",
     "output_type": "stream",
     "text": [
      "shift: Monday 10-11, las assigned: ['Ruchi Sarkar ', 'Dana Rubin', 'Sarah Bost', 'Angel Karafas']\n",
      "shift: Monday 11-12, las assigned: ['Halie Chmura', 'Anna Truelove', 'Akash Krishna']\n",
      "shift: Monday 12-1, las assigned: ['Halie Chmura', 'James Bury']\n",
      "shift: Monday 1-2, las assigned: ['Amy Clark', 'Natasha Vaidya', 'James Bury']\n",
      "shift: Monday 2-3, las assigned: ['Amy Clark', 'Natasha Vaidya', 'Anna Truelove']\n",
      "shift: Monday 3-4, las assigned: ['Amy Clark', 'Natasha Vaidya', 'Akash Krishna']\n",
      "shift: Monday 4-5, las assigned: ['Amy Clark', 'Nidhi Murlidhar', 'Akash Krishna']\n",
      "shift: Tues 10-11, las assigned: ['Ruchi Sarkar ', 'Halie Chmura', 'Angel Karafas', 'Sophia Shaikh']\n",
      "shift: Tues 11-12, las assigned: ['Ruchi Sarkar ', 'Natasha Vaidya', 'James Bury']\n",
      "shift: Tues 12-1, las assigned: ['Nidhi Murlidhar', 'Natasha Vaidya', 'James Bury', 'Angel Karafas']\n",
      "shift: Tues 1-2, las assigned: ['Dana Rubin', 'Sarah Bost', 'James Bury', 'Angel Karafas']\n",
      "shift: Tues 2-3, las assigned: ['Ruchi Sarkar ', 'Anna Truelove', 'Sophia Shaikh']\n",
      "shift: Tues 3-4, las assigned: ['Amy Clark', 'Shannon Goad', 'Sophia Shaikh']\n",
      "shift: Tues 4-5, las assigned: ['Dana Rubin', 'Shannon Goad', 'Akash Krishna']\n",
      "shift: Wed 10-11, las assigned: ['Amy Clark', 'Sarah Bost', 'Angel Karafas']\n",
      "shift: Wed 11-12, las assigned: ['Halie Chmura', 'Anna Truelove', 'Akash Krishna']\n",
      "shift: Wed 12-1, las assigned: ['Halie Chmura', 'James Bury']\n",
      "shift: Wed 1-2, las assigned: ['Ruchi Sarkar ', 'Natasha Vaidya']\n",
      "shift: Wed 2-3, las assigned: ['Nidhi Murlidhar', 'Shannon Goad']\n",
      "shift: Wed 3-4, las assigned: ['Nidhi Murlidhar', 'Shannon Goad']\n",
      "shift: Wed 4-5, las assigned: ['Dana Rubin', 'Shannon Goad']\n",
      "shift: Thur 10-11, las assigned: ['Ruchi Sarkar ', 'Halie Chmura', 'Angel Karafas']\n",
      "shift: Thur 11-12, las assigned: ['Nidhi Murlidhar', 'Sarah Bost']\n",
      "shift: Thur 12-1, las assigned: ['Nidhi Murlidhar', 'Sarah Bost']\n",
      "shift: Thur 1-2, las assigned: ['Dana Rubin', 'Sarah Bost']\n",
      "shift: Thur 2-3, las assigned: ['Anna Truelove', 'Sophia Shaikh']\n",
      "shift: Thur 3-4, las assigned: ['Shannon Goad', 'Anna Truelove', 'Sophia Shaikh']\n",
      "shift: Thur 4-5, las assigned: ['Dana Rubin', 'Akash Krishna', 'Sophia Shaikh']\n"
     ]
    }
   ],
   "source": [
    "runs_since_changed = 0\n",
    "\n",
    "while not runs_since_changed >= 29:\n",
    "    for t in sorted_times:\n",
    "        current_shift = [x for x in shifts if x.title == t][0]\n",
    "        for l in current_shift.available_workers:\n",
    "            if current_shift.addLAToShift(l):\n",
    "                runs_since_changed = 0\n",
    "                break\n",
    "    runs_since_changed += 1\n",
    "                    \n",
    "for s in shifts:\n",
    "    print(\"shift: \" + s.title + \", las assigned: \" + str([x.name for x in s.workers]))"
   ]
  },
  {
   "cell_type": "code",
   "execution_count": 10,
   "metadata": {},
   "outputs": [
    {
     "name": "stdout",
     "output_type": "stream",
     "text": [
      "name: Amy Clark, shifts: 6\n",
      "name: Ruchi Sarkar , shifts: 6\n",
      "name: Dana Rubin, shifts: 6\n",
      "name: Nidhi Murlidhar, shifts: 6\n",
      "name: Natasha Vaidya, shifts: 6\n",
      "name: Shannon Goad, shifts: 6\n",
      "name: Halie Chmura, shifts: 6\n",
      "name: Sarah Bost, shifts: 6\n",
      "name: Anna Truelove, shifts: 6\n",
      "name: James Bury, shifts: 6\n",
      "name: Angel Karafas, shifts: 6\n",
      "name: Akash Krishna, shifts: 6\n",
      "name: Sophia Shaikh, shifts: 6\n"
     ]
    }
   ],
   "source": [
    "for l in LAs:\n",
    "    print(\"name: \" + l.name + \", shifts: \" + str(len([x.title for x in l.shifts])))"
   ]
  },
  {
   "cell_type": "markdown",
   "metadata": {},
   "source": [
    "### Create HTML file"
   ]
  },
  {
   "cell_type": "code",
   "execution_count": 52,
   "metadata": {},
   "outputs": [
    {
     "data": {
      "text/plain": [
       "15026"
      ]
     },
     "execution_count": 52,
     "metadata": {},
     "output_type": "execute_result"
    }
   ],
   "source": [
    "html = \"\"\"<!doctype html>\n",
    "<html lang=\"en\">\n",
    "\n",
    "<head>\n",
    "    <!-- Required meta tags -->\n",
    "    <meta charset=\"utf-8\">\n",
    "    <meta name=\"viewport\" content=\"width=device-width, initial-scale=1, shrink-to-fit=no\">\n",
    "\n",
    "    <!-- Bootstrap CSS -->\n",
    "    <link rel=\"stylesheet\" href=\"https://stackpath.bootstrapcdn.com/bootstrap/4.4.1/css/bootstrap.min.css\"\n",
    "        integrity=\"sha384-Vkoo8x4CGsO3+Hhxv8T/Q5PaXtkKtu6ug5TOeNV6gBiFeWPGFN9MuhOf23Q9Ifjh\" crossorigin=\"anonymous\">\n",
    "\n",
    "    <title>Hello, world!</title>\n",
    "</head>\n",
    "\n",
    "<body>\n",
    "\n",
    "    <div class=\"container\" style=\"margin-top:30px\">\n",
    "\n",
    "        <h1>Monday:</h1>\n",
    "        <div class=\"row row-cols-5\">\"\"\"\n",
    "        \n",
    "\n",
    "cols = 0\n",
    "day_index = 0\n",
    "\n",
    "for s in shifts:\n",
    "    \n",
    "    if cols % 5 == 0:\n",
    "        html += \"</div>\\n<div class=\\\"row row-cols-5\\\">\"\n",
    "        cols = 0\n",
    "        \n",
    "    if days[day_index] not in s.title:\n",
    "        day_index += 1\n",
    "        html += \"</div>\\n\"\n",
    "        html += \"<br><h1>\" + days[day_index] + \"</h1>\"\n",
    "        html += \"<div class=\\\"row row-cols-5\\\">\"\n",
    "        cols = 0\n",
    "        \n",
    "    html += \"\"\"<div class=\"col\">\n",
    "                   <div class=\"card border-dark mb-3\" style=\"max-width: 18rem;\">\n",
    "                       <div class=\"card-header\">\"\"\" + s.title + \"\"\"</div>\n",
    "                       <div class=\"card-body text-dark\">\n",
    "                           <ul>\"\"\"\n",
    "    \n",
    "    for l in s.workers:\n",
    "        html += \"<li><p class=\\\"card-text\\\">\" + l.name + \"</p></li>\"\n",
    "\n",
    "    html += \"\"\"             </ul>\n",
    "                       </div>\n",
    "                   </div>\n",
    "               </div>\"\"\"\n",
    "    cols += 1\n",
    "            \n",
    "html +=\"\"\"</div>\n",
    "    </div>\n",
    "\n",
    "    \n",
    "    <!-- Optional JavaScript -->\n",
    "    <!-- jQuery first, then Popper.js, then Bootstrap JS -->\n",
    "    <script src=\"https://code.jquery.com/jquery-3.4.1.slim.min.js\"\n",
    "        integrity=\"sha384-J6qa4849blE2+poT4WnyKhv5vZF5SrPo0iEjwBvKU7imGFAV0wwj1yYfoRSJoZ+n\"\n",
    "        crossorigin=\"anonymous\"></script>\n",
    "    <script src=\"https://cdn.jsdelivr.net/npm/popper.js@1.16.0/dist/umd/popper.min.js\"\n",
    "        integrity=\"sha384-Q6E9RHvbIyZFJoft+2mJbHaEWldlvI9IOYy5n3zV9zzTtmI3UksdQRVvoxMfooAo\"\n",
    "        crossorigin=\"anonymous\"></script>\n",
    "    <script src=\"https://stackpath.bootstrapcdn.com/bootstrap/4.4.1/js/bootstrap.min.js\"\n",
    "        integrity=\"sha384-wfSDF2E50Y2D1uUdj0O3uMBJnjuUD4Ih7YwaYd1iqfktj0Uod8GCExl3Og8ifwB6\"\n",
    "        crossorigin=\"anonymous\"></script>\n",
    "</body>\n",
    "\n",
    "</html>\"\"\"\n",
    "\n",
    "file = open(\"index.html\", \"w\")\n",
    "file.write(html)"
   ]
  }
 ],
 "metadata": {
  "kernelspec": {
   "display_name": "Python 3",
   "language": "python",
   "name": "python3"
  },
  "language_info": {
   "codemirror_mode": {
    "name": "ipython",
    "version": 3
   },
   "file_extension": ".py",
   "mimetype": "text/x-python",
   "name": "python",
   "nbconvert_exporter": "python",
   "pygments_lexer": "ipython3",
   "version": "3.7.4"
  }
 },
 "nbformat": 4,
 "nbformat_minor": 2
}
