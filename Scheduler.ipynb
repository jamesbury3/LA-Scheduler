{
 "cells": [
  {
   "cell_type": "code",
   "execution_count": 1,
   "metadata": {},
   "outputs": [],
   "source": [
    "import pandas as pd\n",
    "pd.options.mode.chained_assignment = None  # default='warn'"
   ]
  },
  {
   "cell_type": "markdown",
   "metadata": {},
   "source": [
    "### Read and clean csv"
   ]
  },
  {
   "cell_type": "code",
   "execution_count": 12,
   "metadata": {},
   "outputs": [
    {
     "data": {
      "text/html": [
       "<div>\n",
       "<style scoped>\n",
       "    .dataframe tbody tr th:only-of-type {\n",
       "        vertical-align: middle;\n",
       "    }\n",
       "\n",
       "    .dataframe tbody tr th {\n",
       "        vertical-align: top;\n",
       "    }\n",
       "\n",
       "    .dataframe thead th {\n",
       "        text-align: right;\n",
       "    }\n",
       "</style>\n",
       "<table border=\"1\" class=\"dataframe\">\n",
       "  <thead>\n",
       "    <tr style=\"text-align: right;\">\n",
       "      <th></th>\n",
       "      <th>name</th>\n",
       "      <th>times</th>\n",
       "    </tr>\n",
       "  </thead>\n",
       "  <tbody>\n",
       "    <tr>\n",
       "      <td>0</td>\n",
       "      <td>Amy Clark</td>\n",
       "      <td>Monday 1-2, Monday 2-3, Monday 3-4, Monday 4-5...</td>\n",
       "    </tr>\n",
       "    <tr>\n",
       "      <td>1</td>\n",
       "      <td>Ruchi Sarkar</td>\n",
       "      <td>Monday 10-11, Monday 1-2, Tues 10-11, Tues 11-...</td>\n",
       "    </tr>\n",
       "    <tr>\n",
       "      <td>2</td>\n",
       "      <td>Dana Rubin</td>\n",
       "      <td>Monday 10-11, Monday 1-2, Monday 4-5, Tues 1-2...</td>\n",
       "    </tr>\n",
       "    <tr>\n",
       "      <td>3</td>\n",
       "      <td>Nidhi Murlidhar</td>\n",
       "      <td>Monday 4-5, Tues 10-11, Tues 11-12, Tues 12-1,...</td>\n",
       "    </tr>\n",
       "    <tr>\n",
       "      <td>5</td>\n",
       "      <td>Natasha Vaidya</td>\n",
       "      <td>Monday 1-2, Monday 2-3, Monday 3-4, Monday 4-5...</td>\n",
       "    </tr>\n",
       "  </tbody>\n",
       "</table>\n",
       "</div>"
      ],
      "text/plain": [
       "              name                                              times\n",
       "0        Amy Clark  Monday 1-2, Monday 2-3, Monday 3-4, Monday 4-5...\n",
       "1    Ruchi Sarkar   Monday 10-11, Monday 1-2, Tues 10-11, Tues 11-...\n",
       "2       Dana Rubin  Monday 10-11, Monday 1-2, Monday 4-5, Tues 1-2...\n",
       "3  Nidhi Murlidhar  Monday 4-5, Tues 10-11, Tues 11-12, Tues 12-1,...\n",
       "5   Natasha Vaidya  Monday 1-2, Monday 2-3, Monday 3-4, Monday 4-5..."
      ]
     },
     "execution_count": 12,
     "metadata": {},
     "output_type": "execute_result"
    }
   ],
   "source": [
    "df = pd.read_csv(\"las2.csv\").drop(columns=[\"Timestamp\", \"Empty\"]).rename(columns={\n",
    "    \"What is your name?\": \"name\",\n",
    "    \"For each of the following, choose which days and times you are available (Please try to put at LEAST 10 available slots)\": \"times\"\n",
    "}).dropna()\n",
    "df.head()"
   ]
  },
  {
   "cell_type": "code",
   "execution_count": 3,
   "metadata": {},
   "outputs": [],
   "source": [
    "all_times = set()\n",
    "\n",
    "for index, row in df.iterrows():\n",
    "    times = str(row[\"times\"]).split(\", \")\n",
    "    for t in times:\n",
    "        if t not in all_times:\n",
    "            all_times.add(t)\n",
    "            \n",
    "all_times = list(all_times)"
   ]
  },
  {
   "cell_type": "markdown",
   "metadata": {},
   "source": [
    "### Sort times"
   ]
  },
  {
   "cell_type": "code",
   "execution_count": 5,
   "metadata": {},
   "outputs": [
    {
     "name": "stdout",
     "output_type": "stream",
     "text": [
      "['Monday 10-11', 'Monday 11-12', 'Monday 12-1', 'Monday 1-2', 'Monday 2-3', 'Monday 3-4', 'Monday 4-5', 'Tues 10-11', 'Tues 11-12', 'Tues 12-1', 'Tues 1-2', 'Tues 2-3', 'Tues 3-4', 'Tues 4-5', 'Wed 10-11', 'Wed 11-12', 'Wed 12-1', 'Wed 1-2', 'Wed 2-3', 'Wed 3-4', 'Wed 4-5', 'Thur 10-11', 'Thur 11-12', 'Thur 12-1', 'Thur 1-2', 'Thur 2-3', 'Thur 3-4', 'Thur 4-5']\n"
     ]
    }
   ],
   "source": [
    "days = [\"Monday\", \"Tues\", \"Wed\", \"Thur\"]\n",
    "time_order = [\"10-11\", \"11-12\", \"12-1\", \"1-2\", \"2-3\", \"3-4\", \"4-5\"]\n",
    "sorted_times = []\n",
    "\n",
    "for d in days:\n",
    "    curr_day = [x for x in all_times if d in x]\n",
    "    for t in time_order:\n",
    "        for c in curr_day:\n",
    "            if t in c:\n",
    "                sorted_times.append(c)"
   ]
  },
  {
   "cell_type": "markdown",
   "metadata": {},
   "source": [
    "### Create LA and Shift classes"
   ]
  },
  {
   "cell_type": "code",
   "execution_count": 6,
   "metadata": {},
   "outputs": [
    {
     "name": "stdout",
     "output_type": "stream",
     "text": [
      "name: James, hours left: 4, shifts: ['Monday 10-11']\n",
      "Shift: Monday 10-11, LAs assigned: ['James'], positions left: 3, available las: ['James']\n"
     ]
    }
   ],
   "source": [
    "class LA:\n",
    "    \n",
    "    def __init__(self, name):\n",
    "        self.name = name\n",
    "        self.hours_left = 5\n",
    "        self.shifts = []\n",
    "        self.possible_shifts = []\n",
    "        \n",
    "    def assign(self, shift):\n",
    "        if self.hours_left > 0:\n",
    "            self.hours_left -= 1\n",
    "            self.shifts.append(shift)\n",
    "            return True\n",
    "        else:\n",
    "            return False\n",
    "        \n",
    "    def addPossibleShift(self, shift):\n",
    "        self.possible_shifts.append(shift)\n",
    "        \n",
    "    def __repr__(self):\n",
    "        return \"name: \" + self.name + \", hours left: \" + str(self.hours_left) + \", shifts: \" + str([x.title for x in self.shifts])\n",
    "        \n",
    "        \n",
    "class Shift:\n",
    "    \n",
    "    def __init__(self, title):\n",
    "        self.title = title\n",
    "        self.workers = []\n",
    "        self.available_workers = []\n",
    "        self.positions_remaining = 4\n",
    "        \n",
    "    def addLAToShift(self, la):\n",
    "        if self.positions_remaining > 0:\n",
    "            if la.assign(self):\n",
    "                self.workers.append(la)\n",
    "                self.positions_remaining -= 1\n",
    "                return True\n",
    "        else:\n",
    "            return False\n",
    "        \n",
    "    def addAvailableWorker(self, la):\n",
    "        self.available_workers.append(la)\n",
    "        \n",
    "    def __repr__(self):\n",
    "        return \"Shift: \" + self.title + \", LAs assigned: \" + str([x.name for x in self.workers]) + \\\n",
    "               \", positions left: \" + str(self.positions_remaining) + \", available las: \" + \\\n",
    "                str([x.name for x in self.available_workers])"
   ]
  },
  {
   "cell_type": "markdown",
   "metadata": {},
   "source": [
    "### Add time columns"
   ]
  },
  {
   "cell_type": "code",
   "execution_count": 7,
   "metadata": {
    "scrolled": true
   },
   "outputs": [
    {
     "name": "stdout",
     "output_type": "stream",
     "text": [
      "[name: Amy Clark, hours left: 5, shifts: [], name: Ruchi Sarkar , hours left: 5, shifts: [], name: Dana Rubin, hours left: 5, shifts: [], name: Nidhi Murlidhar, hours left: 5, shifts: [], name: Natasha Vaidya, hours left: 5, shifts: [], name: Shannon Goad, hours left: 5, shifts: [], name: Halie Chmura, hours left: 5, shifts: [], name: Sarah Bost, hours left: 5, shifts: [], name: Anna Truelove, hours left: 5, shifts: [], name: James Bury, hours left: 5, shifts: [], name: Angel Karafas, hours left: 5, shifts: [], name: Akash Krishna, hours left: 5, shifts: [], name: Sophia Shaikh, hours left: 5, shifts: []]\n",
      "[Shift: Monday 10-11, LAs assigned: [], positions left: 4, available las: ['Ruchi Sarkar ', 'Dana Rubin', 'Sarah Bost', 'Anna Truelove', 'Angel Karafas'], Shift: Monday 11-12, LAs assigned: [], positions left: 4, available las: ['Halie Chmura', 'Anna Truelove', 'Akash Krishna'], Shift: Monday 12-1, LAs assigned: [], positions left: 4, available las: ['Halie Chmura', 'James Bury'], Shift: Monday 1-2, LAs assigned: [], positions left: 4, available las: ['Amy Clark', 'Ruchi Sarkar ', 'Dana Rubin', 'Natasha Vaidya', 'Halie Chmura', 'James Bury'], Shift: Monday 2-3, LAs assigned: [], positions left: 4, available las: ['Amy Clark', 'Natasha Vaidya', 'Shannon Goad', 'Halie Chmura', 'Sarah Bost', 'Anna Truelove', 'James Bury'], Shift: Monday 3-4, LAs assigned: [], positions left: 4, available las: ['Amy Clark', 'Natasha Vaidya', 'Shannon Goad', 'Sarah Bost', 'Akash Krishna'], Shift: Monday 4-5, LAs assigned: [], positions left: 4, available las: ['Amy Clark', 'Dana Rubin', 'Nidhi Murlidhar', 'Natasha Vaidya', 'Shannon Goad', 'Sarah Bost', 'Akash Krishna'], Shift: Tues 10-11, LAs assigned: [], positions left: 4, available las: ['Ruchi Sarkar ', 'Nidhi Murlidhar', 'Halie Chmura', 'Angel Karafas', 'Sophia Shaikh'], Shift: Tues 11-12, LAs assigned: [], positions left: 4, available las: ['Ruchi Sarkar ', 'Nidhi Murlidhar', 'Natasha Vaidya', 'Halie Chmura', 'Sarah Bost', 'James Bury', 'Akash Krishna'], Shift: Tues 12-1, LAs assigned: [], positions left: 4, available las: ['Nidhi Murlidhar', 'Natasha Vaidya', 'Halie Chmura', 'Sarah Bost', 'James Bury', 'Angel Karafas'], Shift: Tues 1-2, LAs assigned: [], positions left: 4, available las: ['Dana Rubin', 'Nidhi Murlidhar', 'Sarah Bost', 'James Bury', 'Angel Karafas'], Shift: Tues 2-3, LAs assigned: [], positions left: 4, available las: ['Ruchi Sarkar ', 'Anna Truelove', 'James Bury', 'Sophia Shaikh'], Shift: Tues 3-4, LAs assigned: [], positions left: 4, available las: ['Amy Clark', 'Shannon Goad', 'Anna Truelove', 'Sophia Shaikh'], Shift: Tues 4-5, LAs assigned: [], positions left: 4, available las: ['Dana Rubin', 'Shannon Goad', 'Anna Truelove', 'Akash Krishna', 'Sophia Shaikh'], Shift: Wed 10-11, LAs assigned: [], positions left: 4, available las: ['Amy Clark', 'Ruchi Sarkar ', 'Dana Rubin', 'Sarah Bost', 'Anna Truelove', 'Angel Karafas'], Shift: Wed 11-12, LAs assigned: [], positions left: 4, available las: ['Halie Chmura', 'Anna Truelove', 'Akash Krishna'], Shift: Wed 12-1, LAs assigned: [], positions left: 4, available las: ['Halie Chmura', 'James Bury'], Shift: Wed 1-2, LAs assigned: [], positions left: 4, available las: ['Amy Clark', 'Ruchi Sarkar ', 'Dana Rubin', 'Nidhi Murlidhar', 'Natasha Vaidya', 'Halie Chmura', 'James Bury'], Shift: Wed 2-3, LAs assigned: [], positions left: 4, available las: ['Amy Clark', 'Nidhi Murlidhar', 'Natasha Vaidya', 'Shannon Goad', 'Halie Chmura', 'Sarah Bost', 'James Bury'], Shift: Wed 3-4, LAs assigned: [], positions left: 4, available las: ['Nidhi Murlidhar', 'Natasha Vaidya', 'Shannon Goad', 'Sarah Bost', 'Akash Krishna'], Shift: Wed 4-5, LAs assigned: [], positions left: 4, available las: ['Dana Rubin', 'Nidhi Murlidhar', 'Natasha Vaidya', 'Shannon Goad', 'Sarah Bost', 'Akash Krishna'], Shift: Thur 10-11, LAs assigned: [], positions left: 4, available las: ['Ruchi Sarkar ', 'Nidhi Murlidhar', 'Halie Chmura', 'Angel Karafas', 'Sophia Shaikh'], Shift: Thur 11-12, LAs assigned: [], positions left: 4, available las: ['Ruchi Sarkar ', 'Nidhi Murlidhar', 'Natasha Vaidya', 'Halie Chmura', 'Sarah Bost', 'James Bury', 'Akash Krishna'], Shift: Thur 12-1, LAs assigned: [], positions left: 4, available las: ['Nidhi Murlidhar', 'Natasha Vaidya', 'Halie Chmura', 'Sarah Bost', 'James Bury'], Shift: Thur 1-2, LAs assigned: [], positions left: 4, available las: ['Dana Rubin', 'Nidhi Murlidhar', 'Sarah Bost', 'Anna Truelove', 'James Bury'], Shift: Thur 2-3, LAs assigned: [], positions left: 4, available las: ['Ruchi Sarkar ', 'Anna Truelove', 'Sophia Shaikh'], Shift: Thur 3-4, LAs assigned: [], positions left: 4, available las: ['Shannon Goad', 'Anna Truelove', 'Sophia Shaikh'], Shift: Thur 4-5, LAs assigned: [], positions left: 4, available las: ['Dana Rubin', 'Shannon Goad', 'Akash Krishna', 'Sophia Shaikh']]\n"
     ]
    },
    {
     "data": {
      "text/html": [
       "<div>\n",
       "<style scoped>\n",
       "    .dataframe tbody tr th:only-of-type {\n",
       "        vertical-align: middle;\n",
       "    }\n",
       "\n",
       "    .dataframe tbody tr th {\n",
       "        vertical-align: top;\n",
       "    }\n",
       "\n",
       "    .dataframe thead th {\n",
       "        text-align: right;\n",
       "    }\n",
       "</style>\n",
       "<table border=\"1\" class=\"dataframe\">\n",
       "  <thead>\n",
       "    <tr style=\"text-align: right;\">\n",
       "      <th></th>\n",
       "      <th>name</th>\n",
       "      <th>times</th>\n",
       "      <th>Monday 10-11</th>\n",
       "      <th>Monday 11-12</th>\n",
       "      <th>Monday 12-1</th>\n",
       "      <th>Monday 1-2</th>\n",
       "      <th>Monday 2-3</th>\n",
       "      <th>Monday 3-4</th>\n",
       "      <th>Monday 4-5</th>\n",
       "      <th>Tues 10-11</th>\n",
       "      <th>...</th>\n",
       "      <th>Wed 2-3</th>\n",
       "      <th>Wed 3-4</th>\n",
       "      <th>Wed 4-5</th>\n",
       "      <th>Thur 10-11</th>\n",
       "      <th>Thur 11-12</th>\n",
       "      <th>Thur 12-1</th>\n",
       "      <th>Thur 1-2</th>\n",
       "      <th>Thur 2-3</th>\n",
       "      <th>Thur 3-4</th>\n",
       "      <th>Thur 4-5</th>\n",
       "    </tr>\n",
       "  </thead>\n",
       "  <tbody>\n",
       "    <tr>\n",
       "      <td>0</td>\n",
       "      <td>Amy Clark</td>\n",
       "      <td>Monday 1-2, Monday 2-3, Monday 3-4, Monday 4-5...</td>\n",
       "      <td>0</td>\n",
       "      <td>0</td>\n",
       "      <td>0</td>\n",
       "      <td>1</td>\n",
       "      <td>1</td>\n",
       "      <td>1</td>\n",
       "      <td>1</td>\n",
       "      <td>0</td>\n",
       "      <td>...</td>\n",
       "      <td>1</td>\n",
       "      <td>0</td>\n",
       "      <td>0</td>\n",
       "      <td>0</td>\n",
       "      <td>0</td>\n",
       "      <td>0</td>\n",
       "      <td>0</td>\n",
       "      <td>0</td>\n",
       "      <td>0</td>\n",
       "      <td>0</td>\n",
       "    </tr>\n",
       "    <tr>\n",
       "      <td>1</td>\n",
       "      <td>Ruchi Sarkar</td>\n",
       "      <td>Monday 10-11, Monday 1-2, Tues 10-11, Tues 11-...</td>\n",
       "      <td>1</td>\n",
       "      <td>0</td>\n",
       "      <td>0</td>\n",
       "      <td>1</td>\n",
       "      <td>0</td>\n",
       "      <td>0</td>\n",
       "      <td>0</td>\n",
       "      <td>1</td>\n",
       "      <td>...</td>\n",
       "      <td>0</td>\n",
       "      <td>0</td>\n",
       "      <td>0</td>\n",
       "      <td>1</td>\n",
       "      <td>1</td>\n",
       "      <td>0</td>\n",
       "      <td>0</td>\n",
       "      <td>1</td>\n",
       "      <td>0</td>\n",
       "      <td>0</td>\n",
       "    </tr>\n",
       "  </tbody>\n",
       "</table>\n",
       "<p>2 rows × 30 columns</p>\n",
       "</div>"
      ],
      "text/plain": [
       "            name                                              times  \\\n",
       "0      Amy Clark  Monday 1-2, Monday 2-3, Monday 3-4, Monday 4-5...   \n",
       "1  Ruchi Sarkar   Monday 10-11, Monday 1-2, Tues 10-11, Tues 11-...   \n",
       "\n",
       "   Monday 10-11  Monday 11-12  Monday 12-1  Monday 1-2  Monday 2-3  \\\n",
       "0             0             0            0           1           1   \n",
       "1             1             0            0           1           0   \n",
       "\n",
       "   Monday 3-4  Monday 4-5  Tues 10-11  ...  Wed 2-3  Wed 3-4  Wed 4-5  \\\n",
       "0           1           1           0  ...        1        0        0   \n",
       "1           0           0           1  ...        0        0        0   \n",
       "\n",
       "   Thur 10-11  Thur 11-12  Thur 12-1  Thur 1-2  Thur 2-3  Thur 3-4  Thur 4-5  \n",
       "0           0           0          0         0         0         0         0  \n",
       "1           1           1          0         0         1         0         0  \n",
       "\n",
       "[2 rows x 30 columns]"
      ]
     },
     "execution_count": 7,
     "metadata": {},
     "output_type": "execute_result"
    }
   ],
   "source": [
    "LAs = []\n",
    "shifts = []\n",
    "\n",
    "for t in sorted_times:\n",
    "    df[t] = 0\n",
    "    shifts.append(Shift(t))\n",
    "    \n",
    "for index, row in df.iterrows():\n",
    "    l = LA(row[\"name\"])\n",
    "    for t in sorted_times:\n",
    "        if t in str(row[\"times\"]).split(\", \"):\n",
    "            df[t][index] = 1\n",
    "            l.addPossibleShift(t)\n",
    "            [x for x in shifts if x.title == t][0].addAvailableWorker(l)\n",
    "    \n",
    "    LAs.append(l)"
   ]
  },
  {
   "cell_type": "markdown",
   "metadata": {},
   "source": [
    "### Sorts shift times based on LAs available"
   ]
  },
  {
   "cell_type": "code",
   "execution_count": 8,
   "metadata": {
    "scrolled": true
   },
   "outputs": [
    {
     "data": {
      "text/plain": [
       "{'Monday 12-1': 2,\n",
       " 'Wed 12-1': 2,\n",
       " 'Monday 11-12': 3,\n",
       " 'Wed 11-12': 3,\n",
       " 'Thur 2-3': 3,\n",
       " 'Thur 3-4': 3,\n",
       " 'Tues 2-3': 4,\n",
       " 'Tues 3-4': 4,\n",
       " 'Thur 4-5': 4,\n",
       " 'Monday 10-11': 5,\n",
       " 'Monday 3-4': 5,\n",
       " 'Tues 10-11': 5,\n",
       " 'Tues 1-2': 5,\n",
       " 'Tues 4-5': 5,\n",
       " 'Wed 3-4': 5,\n",
       " 'Thur 10-11': 5,\n",
       " 'Thur 12-1': 5,\n",
       " 'Thur 1-2': 5,\n",
       " 'Monday 1-2': 6,\n",
       " 'Tues 12-1': 6,\n",
       " 'Wed 10-11': 6,\n",
       " 'Wed 4-5': 6,\n",
       " 'Monday 2-3': 7,\n",
       " 'Monday 4-5': 7,\n",
       " 'Tues 11-12': 7,\n",
       " 'Wed 1-2': 7,\n",
       " 'Wed 2-3': 7,\n",
       " 'Thur 11-12': 7}"
      ]
     },
     "execution_count": 8,
     "metadata": {},
     "output_type": "execute_result"
    }
   ],
   "source": [
    "workers = {}\n",
    "\n",
    "for t in sorted_times:\n",
    "    workers[t] = sum(df[t])\n",
    "\n",
    "# Sort by fewest LAs available\n",
    "sorted_workers = {k: v for k, v in sorted(workers.items(), key=lambda item: item[1])}\n",
    "sorted_workers"
   ]
  },
  {
   "cell_type": "markdown",
   "metadata": {},
   "source": [
    "### Assigns and displays shifts"
   ]
  },
  {
   "cell_type": "code",
   "execution_count": 11,
   "metadata": {
    "scrolled": false
   },
   "outputs": [
    {
     "name": "stdout",
     "output_type": "stream",
     "text": [
      "shift: Monday 10-11, las assigned: ['Ruchi Sarkar ', 'Sarah Bost', 'Angel Karafas']\n",
      "shift: Monday 11-12, las assigned: ['Halie Chmura', 'Halie Chmura', 'Akash Krishna']\n",
      "shift: Monday 12-1, las assigned: ['Halie Chmura', 'James Bury']\n",
      "shift: Monday 1-2, las assigned: ['Amy Clark', 'Natasha Vaidya']\n",
      "shift: Monday 2-3, las assigned: ['Amy Clark', 'Natasha Vaidya']\n",
      "shift: Monday 3-4, las assigned: ['Amy Clark', 'Natasha Vaidya', 'Akash Krishna']\n",
      "shift: Monday 4-5, las assigned: ['Amy Clark', 'Natasha Vaidya']\n",
      "shift: Tues 10-11, las assigned: ['Ruchi Sarkar ', 'Angel Karafas', 'Angel Karafas']\n",
      "shift: Tues 11-12, las assigned: ['Ruchi Sarkar ', 'Sarah Bost']\n",
      "shift: Tues 12-1, las assigned: ['Nidhi Murlidhar', 'Sarah Bost', 'Angel Karafas']\n",
      "shift: Tues 1-2, las assigned: ['Dana Rubin', 'Sarah Bost']\n",
      "shift: Tues 2-3, las assigned: ['Ruchi Sarkar ', 'Anna Truelove', 'Sophia Shaikh']\n",
      "shift: Tues 3-4, las assigned: ['Amy Clark', 'Shannon Goad', 'Sophia Shaikh']\n",
      "shift: Tues 4-5, las assigned: ['Dana Rubin', 'Shannon Goad', 'Sophia Shaikh']\n",
      "shift: Wed 10-11, las assigned: ['Ruchi Sarkar ', 'Sarah Bost']\n",
      "shift: Wed 11-12, las assigned: ['Halie Chmura', 'Anna Truelove']\n",
      "shift: Wed 12-1, las assigned: ['Halie Chmura', 'James Bury']\n",
      "shift: Wed 1-2, las assigned: ['Dana Rubin', 'James Bury']\n",
      "shift: Wed 2-3, las assigned: ['Nidhi Murlidhar', 'Shannon Goad']\n",
      "shift: Wed 3-4, las assigned: ['Nidhi Murlidhar', 'Akash Krishna']\n",
      "shift: Wed 4-5, las assigned: ['Dana Rubin', 'Akash Krishna']\n",
      "shift: Thur 10-11, las assigned: ['Nidhi Murlidhar', 'Angel Karafas', 'Sophia Shaikh']\n",
      "shift: Thur 11-12, las assigned: ['Nidhi Murlidhar', 'James Bury']\n",
      "shift: Thur 12-1, las assigned: ['Natasha Vaidya', 'James Bury']\n",
      "shift: Thur 1-2, las assigned: ['Dana Rubin', 'Anna Truelove']\n",
      "shift: Thur 2-3, las assigned: ['Anna Truelove', 'Anna Truelove']\n",
      "shift: Thur 3-4, las assigned: ['Shannon Goad', 'Sophia Shaikh']\n",
      "shift: Thur 4-5, las assigned: ['Shannon Goad', 'Akash Krishna']\n"
     ]
    }
   ],
   "source": [
    "runs_since_changed = 0\n",
    "\n",
    "while not runs_since_changed >= 29:\n",
    "    for t in sorted_times:\n",
    "        current_shift = [x for x in shifts if x.title == t][0]\n",
    "        for l in current_shift.available_workers:\n",
    "            if current_shift.addLAToShift(l):\n",
    "                runs_since_changed = 0\n",
    "                break\n",
    "    runs_since_changed += 1\n",
    "                    \n",
    "for s in shifts:\n",
    "    print(\"shift: \" + s.title + \", las assigned: \" + str([x.name for x in s.workers]))"
   ]
  },
  {
   "cell_type": "code",
   "execution_count": 10,
   "metadata": {},
   "outputs": [
    {
     "name": "stdout",
     "output_type": "stream",
     "text": [
      "name: Amy Clark, shifts: ['Monday 1-2', 'Monday 2-3', 'Monday 3-4', 'Monday 4-5', 'Tues 3-4']\n",
      "name: Ruchi Sarkar , shifts: ['Monday 10-11', 'Tues 10-11', 'Tues 11-12', 'Tues 2-3', 'Wed 10-11']\n",
      "name: Dana Rubin, shifts: ['Tues 1-2', 'Tues 4-5', 'Wed 1-2', 'Wed 4-5', 'Thur 1-2']\n",
      "name: Nidhi Murlidhar, shifts: ['Tues 12-1', 'Wed 2-3', 'Wed 3-4', 'Thur 10-11', 'Thur 11-12']\n",
      "name: Natasha Vaidya, shifts: ['Thur 12-1', 'Monday 1-2', 'Monday 2-3', 'Monday 3-4', 'Monday 4-5']\n",
      "name: Shannon Goad, shifts: ['Thur 3-4', 'Thur 4-5', 'Tues 3-4', 'Tues 4-5', 'Wed 2-3']\n",
      "name: Halie Chmura, shifts: ['Monday 11-12', 'Monday 12-1', 'Wed 11-12', 'Wed 12-1', 'Monday 11-12']\n",
      "name: Sarah Bost, shifts: ['Monday 10-11', 'Tues 11-12', 'Tues 12-1', 'Tues 1-2', 'Wed 10-11']\n",
      "name: Anna Truelove, shifts: ['Thur 2-3', 'Tues 2-3', 'Wed 11-12', 'Thur 1-2', 'Thur 2-3']\n",
      "name: James Bury, shifts: ['Monday 12-1', 'Wed 12-1', 'Wed 1-2', 'Thur 11-12', 'Thur 12-1']\n",
      "name: Angel Karafas, shifts: ['Tues 10-11', 'Thur 10-11', 'Monday 10-11', 'Tues 10-11', 'Tues 12-1']\n",
      "name: Akash Krishna, shifts: ['Wed 3-4', 'Wed 4-5', 'Thur 4-5', 'Monday 11-12', 'Monday 3-4']\n",
      "name: Sophia Shaikh, shifts: ['Thur 3-4', 'Tues 2-3', 'Tues 3-4', 'Tues 4-5', 'Thur 10-11']\n"
     ]
    }
   ],
   "source": [
    "for l in LAs:\n",
    "    print(\"name: \" + l.name + \", shifts: \" + str([x.title for x in l.shifts]))"
   ]
  }
 ],
 "metadata": {
  "kernelspec": {
   "display_name": "Python 3",
   "language": "python",
   "name": "python3"
  },
  "language_info": {
   "codemirror_mode": {
    "name": "ipython",
    "version": 3
   },
   "file_extension": ".py",
   "mimetype": "text/x-python",
   "name": "python",
   "nbconvert_exporter": "python",
   "pygments_lexer": "ipython3",
   "version": "3.7.4"
  }
 },
 "nbformat": 4,
 "nbformat_minor": 2
}
